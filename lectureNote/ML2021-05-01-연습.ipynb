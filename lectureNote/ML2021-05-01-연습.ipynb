{
 "cells": [
  {
   "cell_type": "markdown",
   "id": "de79ae61",
   "metadata": {},
   "source": [
    "## PimaIndiansDiabetes 데이터셋에 대한 나이브 베이즈 분류기 복습"
   ]
  },
  {
   "cell_type": "code",
   "execution_count": 1,
   "id": "ca17c9c9",
   "metadata": {},
   "outputs": [],
   "source": [
    "import numpy as np\n",
    "import pandas as pd\n",
    "import matplotlib.pyplot as plt\n",
    "%matplotlib inline\n",
    "\n",
    "from sklearn.model_selection import train_test_split"
   ]
  },
  {
   "cell_type": "code",
   "execution_count": 2,
   "id": "0ab7a759",
   "metadata": {},
   "outputs": [],
   "source": [
    "# 데이터를 읽어들이고 고려할 특성을 선택\n",
    "\n",
    "data = pd.read_csv('./datasets/PimaIndiansDiabetes.csv')\n",
    "data_subset = data.loc[:,['Blood Glucose','BMI','Class']]"
   ]
  },
  {
   "cell_type": "code",
   "execution_count": 3,
   "id": "41737438",
   "metadata": {},
   "outputs": [],
   "source": [
    "# 데이터 정제\n",
    "bg_mask = data_subset.loc[:,'Blood Glucose']!=0\n",
    "bmi_mask = data_subset.loc[:,'BMI']!=0\n",
    "clean_data_subset = data_subset[bg_mask&bmi_mask]"
   ]
  },
  {
   "cell_type": "code",
   "execution_count": 4,
   "id": "0a3c2158",
   "metadata": {},
   "outputs": [
    {
     "data": {
      "text/plain": [
       "0.35106382978723405"
      ]
     },
     "execution_count": 4,
     "metadata": {},
     "output_type": "execute_result"
    }
   ],
   "source": [
    "# 전체 샘플 중 레이블이 1인 샘플의 비율이 0.35, 0인 샘플의 비율이 0.65\n",
    "\n",
    "(clean_data_subset.Class == 1).sum() / len(clean_data_subset)"
   ]
  },
  {
   "cell_type": "code",
   "execution_count": 5,
   "id": "81479d4a",
   "metadata": {},
   "outputs": [],
   "source": [
    "# 테스트 데이터셋 분리(레이블의 비율을 고려하여 데이터셋 분리)\n",
    "\n",
    "trainD, testD = train_test_split(clean_data_subset, test_size = 0.2, random_state = 20, stratify = clean_data_subset.Class)"
   ]
  },
  {
   "cell_type": "code",
   "execution_count": 6,
   "id": "6625d622",
   "metadata": {},
   "outputs": [
    {
     "data": {
      "text/plain": [
       "0.3509933774834437"
      ]
     },
     "execution_count": 6,
     "metadata": {},
     "output_type": "execute_result"
    }
   ],
   "source": [
    "(testD.Class == 1).sum() / len(testD.Class)"
   ]
  },
  {
   "cell_type": "code",
   "execution_count": 7,
   "id": "0d3dc054",
   "metadata": {},
   "outputs": [
    {
     "data": {
      "text/plain": [
       "0.35108153078202997"
      ]
     },
     "execution_count": 7,
     "metadata": {},
     "output_type": "execute_result"
    }
   ],
   "source": [
    "(trainD.Class == 1).sum() / len(trainD.Class)"
   ]
  },
  {
   "cell_type": "code",
   "execution_count": 8,
   "id": "83025a13",
   "metadata": {},
   "outputs": [],
   "source": [
    "X_train = trainD[['Blood Glucose', 'BMI']]\n",
    "y_train = trainD['Class']\n",
    "\n",
    "X_test = testD[['Blood Glucose','BMI']]\n",
    "y_test = testD['Class']"
   ]
  },
  {
   "cell_type": "markdown",
   "id": "bf8d9f10",
   "metadata": {},
   "source": [
    "## 교차검증을 이용하여 임곗값의 변화에 대해 분류기의 성능(정확도) 비교"
   ]
  },
  {
   "cell_type": "code",
   "execution_count": 9,
   "id": "8ffa2036",
   "metadata": {},
   "outputs": [],
   "source": [
    "# cross_val_predict를 이용하여 임곗값에 따른 정확도 비교\n",
    "\n",
    "from sklearn.model_selection import cross_val_predict\n",
    "from sklearn.naive_bayes import GaussianNB\n",
    "from sklearn.metrics import accuracy_score\n",
    "\n",
    "classifier = GaussianNB()"
   ]
  },
  {
   "cell_type": "code",
   "execution_count": 10,
   "id": "fd8909fc",
   "metadata": {},
   "outputs": [],
   "source": [
    "y_val_probs = cross_val_predict(classifier, X_train,y_train,cv = 5, method = 'predict_proba')"
   ]
  },
  {
   "cell_type": "code",
   "execution_count": 11,
   "id": "8c88d9cc",
   "metadata": {},
   "outputs": [
    {
     "data": {
      "text/plain": [
       "array([[0.49850278, 0.50149722],\n",
       "       [0.67687315, 0.32312685],\n",
       "       [0.07795081, 0.92204919]])"
      ]
     },
     "execution_count": 11,
     "metadata": {},
     "output_type": "execute_result"
    }
   ],
   "source": [
    "y_val_probs[:3]"
   ]
  },
  {
   "cell_type": "code",
   "execution_count": 12,
   "id": "3f984fd5",
   "metadata": {},
   "outputs": [],
   "source": [
    "# 샘플이 주어질 때, 레이블이 1이 될 확률을 y_train와 같은 index순으로 구함\n",
    "y_val_prob1 = y_val_probs[:,1]"
   ]
  },
  {
   "cell_type": "code",
   "execution_count": 13,
   "id": "c8476cca",
   "metadata": {},
   "outputs": [],
   "source": [
    "# 0과 1을 포함하여 [0,1]을 100등분 \n",
    "thresholds = np.linspace(0,1,101) #임곗값\n",
    "acc = []\n",
    "\n",
    "for t in thresholds:\n",
    "    y_val_pred = y_val_prob1 >= t\n",
    "    acc.append(accuracy_score(y_train,y_val_pred))\n",
    "    \n",
    "best_threshold = thresholds[np.argmax(acc)]"
   ]
  },
  {
   "cell_type": "code",
   "execution_count": 14,
   "id": "2e829896",
   "metadata": {},
   "outputs": [
    {
     "name": "stdout",
     "output_type": "stream",
     "text": [
      "정확도는 임곗값이 t = 0.64일 때,  76.21%\n",
      "임곗값이 0.5일 때 정확도는  74.88%\n"
     ]
    }
   ],
   "source": [
    "print(f'정확도는 임곗값이 t = {best_threshold}일 때, {acc[np.argmax(acc)]*100 : .2f}%')\n",
    "print(f'임곗값이 0.5일 때 정확도는 {acc[list(thresholds).index(0.5)]*100 : .2f}%')"
   ]
  },
  {
   "cell_type": "code",
   "execution_count": 15,
   "id": "d270f7e4",
   "metadata": {},
   "outputs": [
    {
     "data": {
      "text/plain": [
       "<matplotlib.collections.LineCollection at 0x266ec258e08>"
      ]
     },
     "execution_count": 15,
     "metadata": {},
     "output_type": "execute_result"
    },
    {
     "data": {
      "image/png": "[encoded data removed]",
      "text/plain": [
       "<Figure size 432x288 with 1 Axes>"
      ]
     },
     "metadata": {
      "needs_background": "light"
     },
     "output_type": "display_data"
    }
   ],
   "source": [
    "plt.plot(thresholds,acc)\n",
    "\n",
    "plt.vlines(0.5, 0,1,colors = 'r',linestyles = 'dashed')\n",
    "plt.vlines(0.64, 0,1,colors = 'b',linestyles = 'dotted')"
   ]
  },
  {
   "cell_type": "markdown",
   "id": "8f52130f",
   "metadata": {},
   "source": [
    "## 분류기에 대한 다양한 성능 평가 1: 오차행렬"
   ]
  },
  {
   "cell_type": "markdown",
   "id": "d311df9b",
   "metadata": {},
   "source": [
    "### 앞에서 교차검증 방식으로 구한 y_val_pred(예측 레이블)과 y_train(실제 레이블)으로부터 오차행렬을 구현해보자."
   ]
  },
  {
   "cell_type": "code",
   "execution_count": 16,
   "id": "a1f215dc",
   "metadata": {},
   "outputs": [],
   "source": [
    "y_val_pred = (y_val_prob1 > best_threshold)"
   ]
  },
  {
   "cell_type": "code",
   "execution_count": 17,
   "id": "6949f5d6",
   "metadata": {},
   "outputs": [],
   "source": [
    "def my_confusion_matrix1(y_true,y_pred):\n",
    "    tn = ((y_true == 0) & (y_pred == 0)).sum()\n",
    "    fp = ((y_true == 0) & (y_pred == 1)).sum()\n",
    "    fn = ((y_true == 1) & (y_pred == 0)).sum()\n",
    "    tp = ((y_true == 1) & (y_pred == 1)).sum()\n",
    "    \n",
    "    return np.array([[tn,fp],[fn,tp]])\n",
    "\n",
    "# y의 레이블 종류가 2개가 아닌 경우도 아래 코드를 조금만 수정하면 됨\n",
    "def my_confusion_matrix2(y_true,y_pred):\n",
    "    cf_mat = np.zeros((2,2),dtype=int)\n",
    "    for i in range(2):\n",
    "        for j in range(2):\n",
    "            cf_mat[i,j] = ((y_true == i)&(y_pred == j)).sum()\n",
    "    return cf_mat"
   ]
  },
  {
   "cell_type": "code",
   "execution_count": 18,
   "id": "e0300476",
   "metadata": {},
   "outputs": [
    {
     "data": {
      "text/plain": [
       "array([[365,  25],\n",
       "       [118,  93]], dtype=int64)"
      ]
     },
     "execution_count": 18,
     "metadata": {},
     "output_type": "execute_result"
    }
   ],
   "source": [
    "my_confusion_matrix1(y_train,y_val_pred)"
   ]
  },
  {
   "cell_type": "code",
   "execution_count": 19,
   "id": "6c48dc3b",
   "metadata": {},
   "outputs": [
    {
     "data": {
      "text/plain": [
       "array([[365,  25],\n",
       "       [118,  93]])"
      ]
     },
     "execution_count": 19,
     "metadata": {},
     "output_type": "execute_result"
    }
   ],
   "source": [
    "my_confusion_matrix2(y_train,y_val_pred)"
   ]
  },
  {
   "cell_type": "markdown",
   "id": "be9554ed",
   "metadata": {},
   "source": [
    "### `sklearn.metrics` 모듈의 `confusion_matrix` 사용"
   ]
  },
  {
   "cell_type": "code",
   "execution_count": 20,
   "id": "f059d807",
   "metadata": {},
   "outputs": [
    {
     "data": {
      "text/plain": [
       "array([[365,  25],\n",
       "       [118,  93]], dtype=int64)"
      ]
     },
     "execution_count": 20,
     "metadata": {},
     "output_type": "execute_result"
    }
   ],
   "source": [
    "from sklearn.metrics import confusion_matrix\n",
    "\n",
    "cf_matrix = confusion_matrix(y_train,y_val_pred)\n",
    "cf_matrix"
   ]
  },
  {
   "cell_type": "markdown",
   "id": "5b77da16",
   "metadata": {},
   "source": [
    "## 분류기에 대한 다양한 성능 평가 2: 오차행렬의 해석"
   ]
  },
  {
   "cell_type": "code",
   "execution_count": 21,
   "id": "d30bb40e",
   "metadata": {},
   "outputs": [
    {
     "data": {
      "text/plain": [
       "array([[0.93589744, 0.06410256],\n",
       "       [0.55924171, 0.44075829]])"
      ]
     },
     "execution_count": 21,
     "metadata": {},
     "output_type": "execute_result"
    }
   ],
   "source": [
    "# 오차행렬의 해석을 위한 계산\n",
    "\n",
    "row_sums = cf_matrix.sum(axis = 1,keepdims = True)\n",
    "\n",
    "# cf_matrix.sum(axis = 1)와 같이 keepdims=False로 해도 아래 계산에서 broadcasting에 의해 문제 없음\n",
    "\n",
    "norm_cf_matrix = cf_matrix / row_sums\n",
    "\n",
    "norm_cf_matrix"
   ]
  },
  {
   "cell_type": "markdown",
   "id": "976d248f",
   "metadata": {},
   "source": [
    "## 분류기에 대한 다양한 성능 평가 3: 요약된 지표 - 정밀도(precision)와 재현율(recall)"
   ]
  },
  {
   "cell_type": "markdown",
   "id": "a8213f68",
   "metadata": {},
   "source": [
    "### 임곗값에 따른 정밀도와 재현율의 변화를 직접 구현  "
   ]
  },
  {
   "cell_type": "code",
   "execution_count": 22,
   "id": "ce6ed2bc",
   "metadata": {},
   "outputs": [],
   "source": [
    "from sklearn.metrics import precision_score,recall_score,f1_score"
   ]
  },
  {
   "cell_type": "code",
   "execution_count": 23,
   "id": "0c89c079",
   "metadata": {},
   "outputs": [
    {
     "data": {
      "text/plain": [
       "Text(0.5, 0, 'threshold')"
      ]
     },
     "execution_count": 23,
     "metadata": {},
     "output_type": "execute_result"
    },
    {
     "data": {
      "image/png": "[encoded data removed]",
      "text/plain": [
       "<Figure size 360x360 with 1 Axes>"
      ]
     },
     "metadata": {
      "needs_background": "light"
     },
     "output_type": "display_data"
    }
   ],
   "source": [
    "# 직접 구현\n",
    "\n",
    "thresholds_1 = np.unique(y_val_prob1)\n",
    "precisions_1 = []\n",
    "recalls_1 = []\n",
    "f1s_1 = []\n",
    "\n",
    "for t in thresholds_1:\n",
    "    y_val_pred = (y_val_prob1>=t)\n",
    "    precisions_1.append(precision_score(y_train,y_val_pred))\n",
    "    recalls_1.append(recall_score(y_train,y_val_pred))\n",
    "    f1s_1.append(f1_score(y_train,y_val_pred))\n",
    "    \n",
    "plt.figure(figsize = (5,5))\n",
    "plt.plot(thresholds_1,precisions_1,c='r',label='precision')\n",
    "plt.plot(thresholds_1,recalls_1,c='b',label='recall')\n",
    "plt.plot(thresholds_1,f1s_1,c='g',label='f1')\n",
    "\n",
    "plt.legend(loc='center right',fontsize = 10)\n",
    "plt.xlabel('threshold',fontsize=10)"
   ]
  },
  {
   "cell_type": "code",
   "execution_count": 24,
   "id": "41ac0e4e",
   "metadata": {},
   "outputs": [
    {
     "data": {
      "text/plain": [
       "436"
      ]
     },
     "execution_count": 24,
     "metadata": {},
     "output_type": "execute_result"
    }
   ],
   "source": [
    "np.argmax(thresholds_1>=0.5)"
   ]
  },
  {
   "cell_type": "code",
   "execution_count": 25,
   "id": "aefc6d46",
   "metadata": {
    "scrolled": true
   },
   "outputs": [
    {
     "data": {
      "text/plain": [
       "0.5014972167017477"
      ]
     },
     "execution_count": 25,
     "metadata": {},
     "output_type": "execute_result"
    }
   ],
   "source": [
    "thresholds_1[np.argmax(thresholds_1>=0.5)]"
   ]
  },
  {
   "cell_type": "code",
   "execution_count": 26,
   "id": "50e95aac",
   "metadata": {},
   "outputs": [
    {
     "name": "stdout",
     "output_type": "stream",
     "text": [
      "0.6851851851851852\n",
      "0.5260663507109005\n"
     ]
    }
   ],
   "source": [
    "print(precisions_1[np.argmax(thresholds_1>=0.5)])\n",
    "print(recalls_1[np.argmax(thresholds_1>=0.5)])"
   ]
  },
  {
   "cell_type": "code",
   "execution_count": 27,
   "id": "011c9f5a",
   "metadata": {},
   "outputs": [
    {
     "name": "stdout",
     "output_type": "stream",
     "text": [
      "0.3912079171353838\n",
      "0.6303317535545023\n",
      "0.6303317535545023\n"
     ]
    }
   ],
   "source": [
    "# 정밀도와 재현율이 같아지는 임곗값?\n",
    "\n",
    "pr_eq_t = np.argmax(np.array(precisions_1)-np.array(recalls_1)==0)\n",
    "print(thresholds_1[pr_eq_t])\n",
    "print(precisions_1[pr_eq_t])\n",
    "print(recalls_1[pr_eq_t])"
   ]
  },
  {
   "cell_type": "markdown",
   "id": "911e0020",
   "metadata": {},
   "source": [
    "### sklearn.metrics 모듈의 precision_recall-curve를 이용하면 임곗값에 따른 정밀도와 재현율을 한꺼번에 얻을 수 있음 (API)"
   ]
  },
  {
   "cell_type": "code",
   "execution_count": 28,
   "id": "495ca1ca",
   "metadata": {},
   "outputs": [],
   "source": [
    "from sklearn.metrics import precision_recall_curve\n",
    "\n",
    "precisions_2,recalls_2,thresholds_2 = precision_recall_curve(y_train,y_val_prob1)"
   ]
  },
  {
   "cell_type": "code",
   "execution_count": 29,
   "id": "752635d5",
   "metadata": {},
   "outputs": [
    {
     "data": {
      "text/plain": [
       "Text(0.5, 0, 'threshold')"
      ]
     },
     "execution_count": 29,
     "metadata": {},
     "output_type": "execute_result"
    },
    {
     "data": {
      "image/png": "[encoded data removed]",
      "text/plain": [
       "<Figure size 360x360 with 1 Axes>"
      ]
     },
     "metadata": {
      "needs_background": "light"
     },
     "output_type": "display_data"
    }
   ],
   "source": [
    "plt.figure(figsize = (5,5))\n",
    "plt.plot(thresholds_2,precisions_2[:-1],c='r',label='prediction')\n",
    "plt.plot(thresholds_2,recalls_2[:-1],c='b',label='recall')\n",
    "\n",
    "plt.legend(loc=\"center right\",fontsize= 10)\n",
    "plt.xlabel(\"threshold\",fontsize=10)"
   ]
  },
  {
   "cell_type": "code",
   "execution_count": 30,
   "id": "3f8b8a1a",
   "metadata": {},
   "outputs": [
    {
     "name": "stdout",
     "output_type": "stream",
     "text": [
      "len(threshold) = 539, len(precision) = 540, len(recall) = 540\n"
     ]
    }
   ],
   "source": [
    "print(f'len(threshold) = {len(thresholds_2)}, len(precision) = {len(precisions_2)}, len(recall) = {len(recalls_2)}')"
   ]
  },
  {
   "cell_type": "code",
   "execution_count": 31,
   "id": "7585ab69",
   "metadata": {},
   "outputs": [
    {
     "name": "stdout",
     "output_type": "stream",
     "text": [
      "PR곡선 아래의 넓이는  0.68\n"
     ]
    }
   ],
   "source": [
    "from sklearn.metrics import average_precision_score\n",
    "print(f'PR곡선 아래의 넓이는 {average_precision_score(y_train,y_val_prob1) : .2f}')"
   ]
  },
  {
   "cell_type": "code",
   "execution_count": 33,
   "id": "6da6c1dd",
   "metadata": {},
   "outputs": [],
   "source": [
    "from sklearn.metrics import roc_curve, roc_auc_score"
   ]
  },
  {
   "cell_type": "code",
   "execution_count": 42,
   "id": "75f0844e",
   "metadata": {},
   "outputs": [
    {
     "data": {
      "text/plain": [
       "Text(0.6, 0.2, 'AUC=0.81')"
      ]
     },
     "execution_count": 42,
     "metadata": {},
     "output_type": "execute_result"
    },
    {
     "data": {
      "image/png": "[encoded data removed]",
      "text/plain": [
       "<Figure size 360x360 with 1 Axes>"
      ]
     },
     "metadata": {
      "needs_background": "light"
     },
     "output_type": "display_data"
    }
   ],
   "source": [
    "auc = roc_auc_score(y_train,y_val_prob1)\n",
    "\n",
    "fpr, tpr, thresholds = roc_curve(y_train,y_val_prob1)\n",
    "\n",
    "plt.figure(figsize = (5,5))\n",
    "plt.plot(fpr,tpr,linewidth=1)\n",
    "plt.plot([0,1],[0,1],'k--',linewidth=1)\n",
    "plt.grid(True)\n",
    "plt.xlabel(\"FPR\",fontsize=10)\n",
    "plt.ylabel(\"TPR\",fontsize=10)\n",
    "plt.text(0.6,0.2,f'AUC={auc:.2f}')"
   ]
  },
  {
   "cell_type": "code",
   "execution_count": null,
   "id": "3ba05d7e",
   "metadata": {},
   "outputs": [],
   "source": []
  }
 ],
 "metadata": {
  "kernelspec": {
   "display_name": "Python 3 (ipykernel)",
   "language": "python",
   "name": "python3"
  },
  "language_info": {
   "codemirror_mode": {
    "name": "ipython",
    "version": 3
   },
   "file_extension": ".py",
   "mimetype": "text/x-python",
   "name": "python",
   "nbconvert_exporter": "python",
   "pygments_lexer": "ipython3",
   "version": "3.7.11"
  },
  "toc": {
   "base_numbering": 1,
   "nav_menu": {},
   "number_sections": true,
   "sideBar": true,
   "skip_h1_title": false,
   "title_cell": "Table of Contents",
   "title_sidebar": "Contents",
   "toc_cell": false,
   "toc_position": {},
   "toc_section_display": true,
   "toc_window_display": false
  }
 },
 "nbformat": 4,
 "nbformat_minor": 5
}
