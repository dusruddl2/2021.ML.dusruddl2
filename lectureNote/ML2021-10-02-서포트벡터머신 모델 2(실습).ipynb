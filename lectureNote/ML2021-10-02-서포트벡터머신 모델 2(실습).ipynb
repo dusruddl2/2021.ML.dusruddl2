{
 "cells": [
  {
   "cell_type": "markdown",
   "metadata": {},
   "source": [
    "## 이번 강의 목표  \n",
    "\n",
    "* Scikit-learn의 서포트벡터 머신 모델들에 대한 이해와 선택 기준  \n",
    "\n",
    "\n",
    "* 실습  \n",
    "\n",
    "\n",
    "* 복습할 내용   \n",
    "> * numpy.ndarray.reshape() ([API](https://numpy.org/doc/stable/reference/generated/numpy.ndarray.reshape.html?highlight=reshape#numpy.ndarray.reshape))  \n",
    "> * numpy.ndarray.astype() ([API](https://numpy.org/doc/stable/reference/generated/numpy.ndarray.astype.html?highlight=astype#numpy.ndarray.astype))   \n",
    "> * numpy.hstack() ([API](https://numpy.org/doc/stable/reference/generated/numpy.hstack.html?highlight=hstack))   \n",
    "> * numpy.logical_xor() ([API](https://numpy.org/doc/stable/reference/generated/numpy.logical_xor.html?highlight=logical_xor#numpy.logical_xor))\n",
    "$$ $$\n",
    "> * sklearn.model_selection.cross_val_score() ([API](https://scikit-learn.org/stable/modules/generated/sklearn.model_selection.cross_val_score.html#sklearn.model_selection.cross_val_score))  \n",
    "> * sklearn.model_selection.cross_val_predict() ([API](https://scikit-learn.org/stable/modules/generated/sklearn.model_selection.cross_val_predict.html#sklearn.model_selection.cross_val_predict))  \n",
    "> * sklearn.preprocessing.StandardScaler() ([API](https://scikit-learn.org/stable/modules/generated/sklearn.preprocessing.StandardScaler.html?highlight=standardscaler#sklearn.preprocessing.StandardScaler))"
   ]
  },
  {
   "cell_type": "markdown",
   "metadata": {},
   "source": [
    "## 서포트벡터머신에 대한 Scikit-learn의 클래스들\n",
    "\n",
    "* <span style=\"color:blue\">서포트벡터머신의 모델은 모두 특성벡터의 스케일에 민감하므로, 학습을 시키기 전에 스케일링을 하는 것을 기억 </span>\n",
    "$$\n",
    "$$\n",
    "* `sklearn.linear_model` 모듈의 확률적 경사하강법을 이용한 선형 서포트벡터머신 모델:   \n",
    "> * 회귀: `SGDRegressor(loss=\"epsilon_insensitive\")`또는 `SGDRegressor(loss=\"squared_epsilon_insensitive\")` ([API](https://scikit-learn.org/stable/modules/generated/sklearn.linear_model.SGDRegressor.html))  \n",
    "$$ $$\n",
    "> * 분류: `SGDClassifier(loss=\"hinge\")`또는 `SGDRegressor(loss=\"squared_hinge\")` ([API](https://scikit-learn.org/stable/modules/generated/sklearn.linear_model.SGDClassifier.html?highlight=sgdclassifier#sklearn.linear_model.SGDClassifier))  \n",
    "$$ $$\n",
    "> * 확률적 경사하강법으로 구현된 위의 클래스를 이용하여 생성된 SVM 모델의 객체에 대해서는 규제(regularization)에 대한 하이퍼파라미터가 `alpha` (C와 역수관계임에 유의, alpha가 커지면 규제가 커지고, alpha가 작아지면 규제가 작아짐)  \n",
    "\n",
    "* `sklearn.svm` 모듈의 선형 서포트벡터머신 모델: `liblinear`라이브러리를 이용한 최적화 알고리즘 사용\n",
    "> * 회귀: `LinearSVR` ([API](https://scikit-learn.org/stable/modules/generated/sklearn.svm.LinearSVR.html?highlight=linearsvr#sklearn.svm.LinearSVR))  \n",
    ">> * 손실함수의 기본값인 `loss=\"epsilon_insensitive\"`를 사용하면 $\\ell_1$ 규제를 사용, $\\ell_2$ 규제를 사용하려면  `loss=\"squared_epsilon_insensitive\"`로 설정  \n",
    "$$ $$\n",
    "> * 분류: `LinearSVC` ([API](https://scikit-learn.org/stable/modules/generated/sklearn.svm.LinearSVC.html?highlight=linearsvc#sklearn.svm.LinearSVC))  \n",
    ">> * 기본적인 선형 서포트벡터머신 분류기를 사용하려면 `loss=\"hinge\"`로 설정 (기본값은 \"sqaured_hinge\")  \n",
    "$$ $$\n",
    "> * 규제 하이퍼파라미터는 `C`임에 주의(C가 커지면 규제가 작아지고, C가 작아지면 규제가 커짐)  \n",
    "$$ $$\n",
    "> * 서포트벡터 모델에서의 최적화 문제에 대한 쌍대문제를 이용할 지를 결정하는 클래스 입력변수는 `dual`  \n",
    ">> * 기본값은 `dual=True`  \n",
    ">> * 일반적으로 샘플의 개수가 특성벡터의 개수보다 많을 때는 `dual=False`로 설정하는 것이 효율적 \n",
    "\n",
    "\n",
    "* `sklearn.svm` 모듈의 (커널) 서포트벡터머신 모델: `libsvm`라이브러리를 이용한 최적화 알고리즘 사용  \n",
    "> * 기본적으로 커널 서포트벡터머신 모델에서 쌍대문제에 대한 최적화를 하는 것이므로 훈련 데이터 샘플의 개수가 너무 많으면 비효율적임  \n",
    ">> * 훈련 샘플의 개수가 수만개를 넘는 경우에는 비효율적일 수 있음  \n",
    "$$ $$\n",
    "> * 회귀에 사용되는 `SVR` ([API](https://scikit-learn.org/stable/modules/generated/sklearn.svm.SVR.html?highlight=svr#sklearn.svm.SVR))과 분류에 사용되는 `SVC`([API](https://scikit-learn.org/stable/modules/generated/sklearn.svm.SVC.html?highlight=svc#sklearn.svm.SVC))가 있음  \n",
    ">> * `SVC`을 이용하여 3종류 이상의 레이블을 갖는 다중분류 문제를 해결하는 전략을 선택하는 변수는 `decision_function_shape` \n",
    ">> * 일대다 전략은 `decision_function_shape=\"ovr\"`, 일대일 전략은 `decision_function_shape=\"ovo\"`로 선택  \n",
    ">> * 레이블의 종류가 많은 경우에는 \"ovo\" 전략이 효율적일 수 있음  \n",
    ">> * <span style=\"color:blue\"> 학습된 객체의 속성 `support_`를 이용하면 서포트벡터의 index를 구할 수 있고, 속성 `support_vectors_`를 이용하면 서포트벡터를 구할 수 있음</span>\n",
    "$$ $$\n",
    "> * 입력변수 `kernel`을 `\"linear\"`로 설정하면 쌍대문제를 이용한 선형 서포트벡터머신 모델  \n",
    ">> * `kernel`로 선택할 수 있는 기본적인 커널함수는 \"linear\", \"poly\", \"rbf\", \"sigmoid\"  \n",
    "$$ $$\n",
    "> * 특정 커널과 관련된 입력변수들은 `ML2020-10-01-서포트벡터머신 모델 1 (이론 및 사이킷런 클래스 설명)`의 커널 트릭 부분 설명과 위 API 참고  \n",
    "$$ $$\n",
    "> * 사용자가 새롭게 정의한 커널을 사용하는 두 가지 방법이 있음  (자세한 내용은 다음 [reference](https://scikit-learn.org/stable/modules/svm.html#svm-kernels)를 읽고 확인할 것, 참고할 [예제링크](https://scikit-learn.org/stable/auto_examples/svm/plot_custom_kernel.html#sphx-glr-auto-examples-svm-plot-custom-kernel-py))\n",
    ">> * ([reference]에 설명된)조건을 만족하는 커널함수를 파이썬에서 mykernel로 정의한 후 `kernel=mykernel`과 같이 전달(<span style=\"color:blue\">문자열이 아닌 함수이름으로 전달하는 것이 주목</span>)하는 방법    \n",
    "$$ $$\n",
    ">> * 새롭게 정의한 커널함수 $K$를 이용하여 $m$개의 훈련 샘플에 대한 $m\\times m$ Gram 행렬 $(K(\\mathbf x_i, \\mathbf x_j))$을 미리 계산하고,  `kernel=\"precomputed\"`로 설정한 다음 객체를 학습시킬 때 `fit()`에 대한 입력으로 훈련데이터셋에 행렬 대신, 계산된 Gram 행렬을 전달 "
   ]
  },
  {
   "cell_type": "code",
   "execution_count": 6,
   "metadata": {},
   "outputs": [],
   "source": [
    "import numpy as np \n",
    "import matplotlib.pyplot as plt \n",
    "\n",
    "%matplotlib inline"
   ]
  },
  {
   "cell_type": "markdown",
   "metadata": {},
   "source": [
    "#### MNIST 데이터셋 다운로드 후 불러들이기  \n",
    "\n",
    "* 기계학습의 고전적인 데이터셋  \n",
    "\n",
    "* 미국 고등학생과 인구조사국 직원의 숫자 손글씨 7만개를 이용해 만들어진 $28\\times 28$ 크기의 이미지 데이터셋 \n",
    "> * 처음 6만개 샘플은 훈련 데이터셋, 마지막 만개의 샘플은 테스트 데이터셋  \n",
    "> * target에 저장된 레이블은 문자열 "
   ]
  },
  {
   "cell_type": "code",
   "execution_count": 2,
   "metadata": {},
   "outputs": [
    {
     "data": {
      "text/plain": [
       "dict_keys(['data', 'target', 'frame', 'categories', 'feature_names', 'target_names', 'DESCR', 'details', 'url'])"
      ]
     },
     "execution_count": 2,
     "metadata": {},
     "output_type": "execute_result"
    }
   ],
   "source": [
    "from sklearn.datasets import fetch_openml\n",
    "mnist = fetch_openml('mnist_784', version=1)\n",
    "mnist.keys()"
   ]
  },
  {
   "cell_type": "code",
   "execution_count": 7,
   "metadata": {},
   "outputs": [
    {
     "name": "stdout",
     "output_type": "stream",
     "text": [
      "**Author**: Yann LeCun, Corinna Cortes, Christopher J.C. Burges  \n",
      "**Source**: [MNIST Website](http://yann.lecun.com/exdb/mnist/) - Date unknown  \n",
      "**Please cite**:  \n",
      "\n",
      "The MNIST database of handwritten digits with 784 features, raw data available at: http://yann.lecun.com/exdb/mnist/. It can be split in a training set of the first 60,000 examples, and a test set of 10,000 examples  \n",
      "\n",
      "It is a subset of a larger set available from NIST. The digits have been size-normalized and centered in a fixed-size image. It is a good database for people who want to try learning techniques and pattern recognition methods on real-world data while spending minimal efforts on preprocessing and formatting. The original black and white (bilevel) images from NIST were size normalized to fit in a 20x20 pixel box while preserving their aspect ratio. The resulting images contain grey levels as a result of the anti-aliasing technique used by the normalization algorithm. the images were centered in a 28x28 image by computing the center of mass of the pixels, and translating the image so as to position this point at the center of the 28x28 field.  \n",
      "\n",
      "With some classification methods (particularly template-based methods, such as SVM and K-nearest neighbors), the error rate improves when the digits are centered by bounding box rather than center of mass. If you do this kind of pre-processing, you should report it in your publications. The MNIST database was constructed from NIST's NIST originally designated SD-3 as their training set and SD-1 as their test set. However, SD-3 is much cleaner and easier to recognize than SD-1. The reason for this can be found on the fact that SD-3 was collected among Census Bureau employees, while SD-1 was collected among high-school students. Drawing sensible conclusions from learning experiments requires that the result be independent of the choice of training set and test among the complete set of samples. Therefore it was necessary to build a new database by mixing NIST's datasets.  \n",
      "\n",
      "The MNIST training set is composed of 30,000 patterns from SD-3 and 30,000 patterns from SD-1. Our test set was composed of 5,000 patterns from SD-3 and 5,000 patterns from SD-1. The 60,000 pattern training set contained examples from approximately 250 writers. We made sure that the sets of writers of the training set and test set were disjoint. SD-1 contains 58,527 digit images written by 500 different writers. In contrast to SD-3, where blocks of data from each writer appeared in sequence, the data in SD-1 is scrambled. Writer identities for SD-1 is available and we used this information to unscramble the writers. We then split SD-1 in two: characters written by the first 250 writers went into our new training set. The remaining 250 writers were placed in our test set. Thus we had two sets with nearly 30,000 examples each. The new training set was completed with enough examples from SD-3, starting at pattern # 0, to make a full set of 60,000 training patterns. Similarly, the new test set was completed with SD-3 examples starting at pattern # 35,000 to make a full set with 60,000 test patterns. Only a subset of 10,000 test images (5,000 from SD-1 and 5,000 from SD-3) is available on this site. The full 60,000 sample training set is available.\n",
      "\n",
      "Downloaded from openml.org.\n"
     ]
    }
   ],
   "source": [
    "print(mnist['DESCR'])"
   ]
  },
  {
   "cell_type": "code",
   "execution_count": 9,
   "metadata": {},
   "outputs": [
    {
     "name": "stdout",
     "output_type": "stream",
     "text": [
      "(70000, 784) (70000,)\n"
     ]
    },
    {
     "data": {
      "text/plain": [
       "str"
      ]
     },
     "execution_count": 9,
     "metadata": {},
     "output_type": "execute_result"
    }
   ],
   "source": [
    "X, y = mnist[\"data\"], mnist[\"target\"]\n",
    "\n",
    "print(X.shape, y.shape)\n",
    "type(y[0])"
   ]
  },
  {
   "cell_type": "code",
   "execution_count": 10,
   "metadata": {},
   "outputs": [],
   "source": [
    "y = y.astype(np.uint8)"
   ]
  },
  {
   "cell_type": "markdown",
   "metadata": {},
   "source": [
    "#### 입력 샘플 그림으로 확인 "
   ]
  },
  {
   "cell_type": "code",
   "execution_count": 11,
   "metadata": {},
   "outputs": [
    {
     "data": {
      "image/png": "[encoded data removed]",
      "text/plain": [
       "<Figure size 288x576 with 1 Axes>"
      ]
     },
     "metadata": {
      "needs_background": "light"
     },
     "output_type": "display_data"
    }
   ],
   "source": [
    "some_digit1 = X[0]\n",
    "some_digit2 = X[1]\n",
    "some_digit_image1 = some_digit1.reshape(28,28)\n",
    "some_digit_image2 = some_digit2.reshape(28,28)\n",
    "some_image = np.hstack([some_digit_image1, some_digit_image2])\n",
    "plt.figure(figsize=(4,8))\n",
    "plt.imshow(some_image, cmap=\"binary\")\n",
    "plt.axis(\"off\")\n",
    "plt.show()"
   ]
  },
  {
   "cell_type": "markdown",
   "metadata": {},
   "source": [
    "#### 이미지에 대응하는 레이블 확인 "
   ]
  },
  {
   "cell_type": "code",
   "execution_count": 12,
   "metadata": {},
   "outputs": [
    {
     "name": "stdout",
     "output_type": "stream",
     "text": [
      "5 0\n"
     ]
    }
   ],
   "source": [
    "print(y[0], y[1])"
   ]
  },
  {
   "cell_type": "markdown",
   "metadata": {},
   "source": [
    "## 4와 나머지 숫자를 구분하는 서포트벡터머신 분류기 \n",
    "\n",
    "* 데이터셋을 훈련 데이터셋과 테스트 데이터셋으로 나누고 \n",
    "\n",
    "* 레이블이 4인 것은 1로, 레이블이 4가 아닌 것은 0으로 수정한 후 학습  "
   ]
  },
  {
   "cell_type": "code",
   "execution_count": 13,
   "metadata": {},
   "outputs": [],
   "source": [
    "X_train, X_test, y_train, y_test = X[:60000], X[60000:], y[:60000], y[60000:]\n",
    "\n",
    "y_train_4 = (y_train == 4)\n",
    "y_test_4 = (y_test == 4)"
   ]
  },
  {
   "cell_type": "code",
   "execution_count": 16,
   "metadata": {},
   "outputs": [
    {
     "data": {
      "text/plain": [
       "array([0, 0, 1, 0, 0, 0, 0, 0, 0, 1], dtype=uint8)"
      ]
     },
     "execution_count": 16,
     "metadata": {},
     "output_type": "execute_result"
    }
   ],
   "source": [
    "y_train_4[:10].astype(np.uint8)"
   ]
  },
  {
   "cell_type": "markdown",
   "metadata": {},
   "source": [
    "### 1. SGDClassifier를 이용한 SVC 생성과 교차검증을 이용한 성능 측정  \n",
    "\n",
    "> * $k$-겹 교차검증에 대한 score만 구할 때: `sklearn.model_selection.cross_val_score` 이용  \n",
    "> * $k$-겹 교차검증에 대한 예측값이 필요할 때: `sklearn.model_selection.cross_val_predict` 이용  \n",
    "> * `ML2020-05-01-교차검증을 이용한 분류기의 성능 평가` 내용 복습 및 참고 "
   ]
  },
  {
   "cell_type": "code",
   "execution_count": 17,
   "metadata": {},
   "outputs": [],
   "source": [
    "from sklearn.model_selection import cross_val_score\n",
    "from sklearn.linear_model import SGDClassifier\n",
    "\n",
    "sgd_clf = SGDClassifier(loss=\"hinge\", random_state=123)"
   ]
  },
  {
   "cell_type": "code",
   "execution_count": 18,
   "metadata": {},
   "outputs": [],
   "source": [
    "from time import time "
   ]
  },
  {
   "cell_type": "code",
   "execution_count": 19,
   "metadata": {},
   "outputs": [
    {
     "name": "stdout",
     "output_type": "stream",
     "text": [
      "[0.9763  0.9735  0.95655]\n"
     ]
    },
    {
     "data": {
      "text/plain": [
       "26.294976234436035"
      ]
     },
     "execution_count": 19,
     "metadata": {},
     "output_type": "execute_result"
    }
   ],
   "source": [
    "start = time()\n",
    "print(cross_val_score(sgd_clf, X_train, y_train_4, cv=3, scoring=\"accuracy\"))\n",
    "time()-start"
   ]
  },
  {
   "cell_type": "markdown",
   "metadata": {},
   "source": [
    "#### 정밀도, 재현율 "
   ]
  },
  {
   "cell_type": "code",
   "execution_count": 12,
   "metadata": {},
   "outputs": [
    {
     "name": "stdout",
     "output_type": "stream",
     "text": [
      "[0.86769845 0.84177521 0.70243902]\n"
     ]
    },
    {
     "data": {
      "text/plain": [
       "24.624820232391357"
      ]
     },
     "execution_count": 12,
     "metadata": {},
     "output_type": "execute_result"
    }
   ],
   "source": [
    "start = time()\n",
    "print(cross_val_score(sgd_clf, X_train, y_train_4, cv=3, scoring=\"precision\"))\n",
    "time()-start"
   ]
  },
  {
   "cell_type": "code",
   "execution_count": 13,
   "metadata": {},
   "outputs": [
    {
     "name": "stdout",
     "output_type": "stream",
     "text": [
      "[0.89265537 0.89625064 0.96098563]\n"
     ]
    },
    {
     "data": {
      "text/plain": [
       "24.25176739692688"
      ]
     },
     "execution_count": 13,
     "metadata": {},
     "output_type": "execute_result"
    }
   ],
   "source": [
    "start = time()\n",
    "print(cross_val_score(sgd_clf, X_train, y_train_4, cv=3, scoring=\"recall\"))\n",
    "time()-start"
   ]
  },
  {
   "cell_type": "markdown",
   "metadata": {},
   "source": [
    "#### 스케일링을 한 다음 학습 시키는 경우 "
   ]
  },
  {
   "cell_type": "code",
   "execution_count": 22,
   "metadata": {},
   "outputs": [
    {
     "data": {
      "text/plain": [
       "array([  0.,   0.,   0.,   0.,   0.,   0.,   0.,   0.,   0.,   0.,   0.,\n",
       "         0.,   0.,   0.,   0.,   0.,   0.,   0.,   0.,   0.,   0.,   0.,\n",
       "         0.,   0.,   0.,   0.,   0.,   0.,   0.,   0.,   0.,   0.,   0.,\n",
       "         0.,   0.,   0.,   0.,   0.,   0.,   0.,   0.,   0.,   0.,   0.,\n",
       "         0.,   0.,   0.,   0.,   0.,   0.,   0.,   0.,   0.,   0.,   0.,\n",
       "         0.,   0.,   0.,   0.,   0.,   0.,   0.,   0.,   0.,   0.,   0.,\n",
       "         0.,   0.,   0.,   0.,   0.,   0.,   0.,   0.,   0.,   0.,   0.,\n",
       "         0.,   0.,   0.,   0.,   0.,   0.,   0.,   0.,   0.,   0.,   0.,\n",
       "         0.,   0.,   0.,   0.,   0.,   0.,   0.,   0.,   0.,   0.,   0.,\n",
       "         0.,   0.,   0.,   0.,   0.,   0.,   0.,   0.,   0.,   0.,   0.,\n",
       "         0.,   0.,   0.,   0.,   0.,   0.,   0.,   0.,   0.,   0.,   0.,\n",
       "         0.,   0.,   0.,   0.,   0.,   0.,   0.,   0.,   0.,   0.,   0.,\n",
       "         0.,   0.,   0.,   0.,   0.,   0.,   0.,   0.,   0.,   0.,   0.,\n",
       "         0.,   0.,   0.,   0.,   0.,   0.,   0.,   0.,   0.,   3.,  18.,\n",
       "        18.,  18., 126., 136., 175.,  26., 166., 255., 247., 127.,   0.,\n",
       "         0.,   0.,   0.,   0.,   0.,   0.,   0.,   0.,   0.,   0.,   0.,\n",
       "        30.,  36.,  94., 154., 170., 253., 253., 253., 253., 253., 225.,\n",
       "       172., 253., 242., 195.,  64.,   0.,   0.,   0.,   0.,   0.,   0.,\n",
       "         0.,   0.,   0.,   0.,   0.,  49., 238., 253., 253., 253., 253.,\n",
       "       253., 253., 253., 253., 251.,  93.,  82.,  82.,  56.,  39.,   0.,\n",
       "         0.,   0.,   0.,   0.,   0.,   0.,   0.,   0.,   0.,   0.,   0.,\n",
       "        18., 219., 253., 253., 253., 253., 253., 198., 182., 247., 241.,\n",
       "         0.,   0.,   0.,   0.,   0.,   0.,   0.,   0.,   0.,   0.,   0.,\n",
       "         0.,   0.,   0.,   0.,   0.,   0.,   0.,  80., 156., 107., 253.,\n",
       "       253., 205.,  11.,   0.,  43., 154.,   0.,   0.,   0.,   0.,   0.,\n",
       "         0.,   0.,   0.,   0.,   0.,   0.,   0.,   0.,   0.,   0.,   0.,\n",
       "         0.,   0.,   0.,  14.,   1., 154., 253.,  90.,   0.,   0.,   0.,\n",
       "         0.,   0.,   0.,   0.,   0.,   0.,   0.,   0.,   0.,   0.,   0.,\n",
       "         0.,   0.,   0.,   0.,   0.,   0.,   0.,   0.,   0.,   0.,   0.,\n",
       "       139., 253., 190.,   2.,   0.,   0.,   0.,   0.,   0.,   0.,   0.,\n",
       "         0.,   0.,   0.,   0.,   0.,   0.,   0.,   0.,   0.,   0.,   0.,\n",
       "         0.,   0.,   0.,   0.,   0.,   0.,  11., 190., 253.,  70.,   0.,\n",
       "         0.,   0.,   0.,   0.,   0.,   0.,   0.,   0.,   0.,   0.,   0.,\n",
       "         0.,   0.,   0.,   0.,   0.,   0.,   0.,   0.,   0.,   0.,   0.,\n",
       "         0.,   0.,  35., 241., 225., 160., 108.,   1.,   0.,   0.,   0.,\n",
       "         0.,   0.,   0.,   0.,   0.,   0.,   0.,   0.,   0.,   0.,   0.,\n",
       "         0.,   0.,   0.,   0.,   0.,   0.,   0.,   0.,   0.,  81., 240.,\n",
       "       253., 253., 119.,  25.,   0.,   0.,   0.,   0.,   0.,   0.,   0.,\n",
       "         0.,   0.,   0.,   0.,   0.,   0.,   0.,   0.,   0.,   0.,   0.,\n",
       "         0.,   0.,   0.,   0.,   0.,  45., 186., 253., 253., 150.,  27.,\n",
       "         0.,   0.,   0.,   0.,   0.,   0.,   0.,   0.,   0.,   0.,   0.,\n",
       "         0.,   0.,   0.,   0.,   0.,   0.,   0.,   0.,   0.,   0.,   0.,\n",
       "         0.,  16.,  93., 252., 253., 187.,   0.,   0.,   0.,   0.,   0.,\n",
       "         0.,   0.,   0.,   0.,   0.,   0.,   0.,   0.,   0.,   0.,   0.,\n",
       "         0.,   0.,   0.,   0.,   0.,   0.,   0.,   0.,   0., 249., 253.,\n",
       "       249.,  64.,   0.,   0.,   0.,   0.,   0.,   0.,   0.,   0.,   0.,\n",
       "         0.,   0.,   0.,   0.,   0.,   0.,   0.,   0.,   0.,   0.,   0.,\n",
       "         0.,  46., 130., 183., 253., 253., 207.,   2.,   0.,   0.,   0.,\n",
       "         0.,   0.,   0.,   0.,   0.,   0.,   0.,   0.,   0.,   0.,   0.,\n",
       "         0.,   0.,   0.,   0.,   0.,  39., 148., 229., 253., 253., 253.,\n",
       "       250., 182.,   0.,   0.,   0.,   0.,   0.,   0.,   0.,   0.,   0.,\n",
       "         0.,   0.,   0.,   0.,   0.,   0.,   0.,   0.,   0.,  24., 114.,\n",
       "       221., 253., 253., 253., 253., 201.,  78.,   0.,   0.,   0.,   0.,\n",
       "         0.,   0.,   0.,   0.,   0.,   0.,   0.,   0.,   0.,   0.,   0.,\n",
       "         0.,   0.,  23.,  66., 213., 253., 253., 253., 253., 198.,  81.,\n",
       "         2.,   0.,   0.,   0.,   0.,   0.,   0.,   0.,   0.,   0.,   0.,\n",
       "         0.,   0.,   0.,   0.,   0.,   0.,  18., 171., 219., 253., 253.,\n",
       "       253., 253., 195.,  80.,   9.,   0.,   0.,   0.,   0.,   0.,   0.,\n",
       "         0.,   0.,   0.,   0.,   0.,   0.,   0.,   0.,   0.,   0.,  55.,\n",
       "       172., 226., 253., 253., 253., 253., 244., 133.,  11.,   0.,   0.,\n",
       "         0.,   0.,   0.,   0.,   0.,   0.,   0.,   0.,   0.,   0.,   0.,\n",
       "         0.,   0.,   0.,   0.,   0., 136., 253., 253., 253., 212., 135.,\n",
       "       132.,  16.,   0.,   0.,   0.,   0.,   0.,   0.,   0.,   0.,   0.,\n",
       "         0.,   0.,   0.,   0.,   0.,   0.,   0.,   0.,   0.,   0.,   0.,\n",
       "         0.,   0.,   0.,   0.,   0.,   0.,   0.,   0.,   0.,   0.,   0.,\n",
       "         0.,   0.,   0.,   0.,   0.,   0.,   0.,   0.,   0.,   0.,   0.,\n",
       "         0.,   0.,   0.,   0.,   0.,   0.,   0.,   0.,   0.,   0.,   0.,\n",
       "         0.,   0.,   0.,   0.,   0.,   0.,   0.,   0.,   0.,   0.,   0.,\n",
       "         0.,   0.,   0.,   0.,   0.,   0.,   0.,   0.,   0.,   0.,   0.,\n",
       "         0.,   0.,   0.,   0.,   0.,   0.,   0.,   0.,   0.,   0.,   0.,\n",
       "         0.,   0.,   0.,   0.,   0.,   0.,   0.,   0.,   0.,   0.,   0.,\n",
       "         0.,   0.,   0.])"
      ]
     },
     "execution_count": 22,
     "metadata": {},
     "output_type": "execute_result"
    }
   ],
   "source": [
    "X_train[0]"
   ]
  },
  {
   "cell_type": "code",
   "execution_count": 23,
   "metadata": {},
   "outputs": [],
   "source": [
    "from sklearn.preprocessing import StandardScaler\n",
    "\n",
    "scaler = StandardScaler()\n",
    "X_train_scaled = scaler.fit_transform(X_train.astype(np.float64))"
   ]
  },
  {
   "cell_type": "code",
   "execution_count": 24,
   "metadata": {},
   "outputs": [
    {
     "name": "stdout",
     "output_type": "stream",
     "text": [
      "[0.97885 0.97695 0.98005]\n"
     ]
    },
    {
     "data": {
      "text/plain": [
       "53.56697106361389"
      ]
     },
     "execution_count": 24,
     "metadata": {},
     "output_type": "execute_result"
    }
   ],
   "source": [
    "start = time()\n",
    "print(cross_val_score(sgd_clf, X_train_scaled, y_train_4, cv=3, scoring=\"accuracy\"))\n",
    "time()-start"
   ]
  },
  {
   "cell_type": "markdown",
   "metadata": {},
   "source": [
    "### 2. SVC(kernel=\"rbf\") 를 이용한 SVC 생성과 교차검증을 이용한 성능 측정  \n",
    "\n",
    "* 샘플의 개수(60000개)가 특성 수(784개) 보다 큰 경우: `LinearSVC(dual=False)`보다 시간이 많이 걸림 "
   ]
  },
  {
   "cell_type": "code",
   "execution_count": 25,
   "metadata": {},
   "outputs": [],
   "source": [
    "from sklearn.svm import SVC \n",
    "svm_clf = SVC(kernel=\"rbf\")"
   ]
  },
  {
   "cell_type": "code",
   "execution_count": 26,
   "metadata": {},
   "outputs": [
    {
     "name": "stdout",
     "output_type": "stream",
     "text": [
      "[0.9926  0.99085 0.99215]\n"
     ]
    },
    {
     "data": {
      "text/plain": [
       "370.1666090488434"
      ]
     },
     "execution_count": 26,
     "metadata": {},
     "output_type": "execute_result"
    }
   ],
   "source": [
    "start = time()\n",
    "print(cross_val_score(svm_clf, X_train_scaled, y_train_4, cv=3, scoring=\"accuracy\", n_jobs=-1))\n",
    "time()-start"
   ]
  },
  {
   "cell_type": "markdown",
   "metadata": {},
   "source": [
    "### 3. SVC(kernel=\"rbf\", decision_function_shape=\"ovo\")을 이용한 다중 분류기 \n",
    "\n",
    "* 실습 시간 관계상 레이블이 $0,3,4$인 데이터 샘플만 추려서 3개의 클래스에 대한 분류를 실습 \n",
    "\n",
    "* OvR 전략을 선택하는 경우 학습에 사용되는 훈련데이터 개수는 대략 30000개, 예측기 3개  \n",
    "\n",
    "* OvO 전략을 선택하는 경우 학습에 사용되는 훈련데이터 개수는 대략 12000개, 6개 \n",
    "\n",
    "* 아래 코드를 차례로 실행시키면서 결과를 확인하시오. "
   ]
  },
  {
   "cell_type": "code",
   "execution_count": 18,
   "metadata": {},
   "outputs": [],
   "source": [
    "label0 = (y_train==0)\n",
    "label3 = (y_train==3)\n",
    "label4 = (y_train==4)\n",
    "\n",
    "idx = label0 | label3 | label4"
   ]
  },
  {
   "cell_type": "code",
   "execution_count": 19,
   "metadata": {},
   "outputs": [],
   "source": [
    "X_train_red = X_train_scaled[idx]\n",
    "y_train_red = y_train[idx]"
   ]
  },
  {
   "cell_type": "code",
   "execution_count": null,
   "metadata": {},
   "outputs": [],
   "source": [
    "# 다음을 실행시키시오. (30분이상 시간이 소요될 수 있음)\n",
    "\n",
    "svm3_clf = SVC(kernel=\"rbf\", decision_function_shape=\"ovo\")\n",
    "svm3_clf.fit(X_train_red, y_train_red)"
   ]
  },
  {
   "cell_type": "code",
   "execution_count": null,
   "metadata": {},
   "outputs": [],
   "source": [
    "# 학습된 다중(3개 클래스) 분류기에 대한 예측값과 실제값 비교 \n",
    "\n",
    "print(svm3_clf.predict([X_train_red[4:10]]))\n",
    "\n",
    "print(y_train_red[4:10])"
   ]
  },
  {
   "cell_type": "code",
   "execution_count": null,
   "metadata": {},
   "outputs": [],
   "source": [
    "# 학습된 객체의 decision_function을 이용하면 각 샘플마다 각 클래스에 속할 score를 반환함 \n",
    "\n",
    "some_digit_score = svm3_clf.decision_function(X_train_red[4:5])\n",
    "print(some_digit_score)"
   ]
  },
  {
   "cell_type": "code",
   "execution_count": null,
   "metadata": {},
   "outputs": [],
   "source": [
    "# 학습된 분류기 객체는 classes_ 속성에 레이블을 값으로 정렬하여 저장함 \n",
    "\n",
    "svm3_clf.classes_"
   ]
  },
  {
   "cell_type": "code",
   "execution_count": null,
   "metadata": {},
   "outputs": [],
   "source": [
    "# 위에서 구한 score가 가장 높은 인덱스에 대응되는 클래스를 svm3_clf.classes_에서 읽으면 예측값 \n",
    "\n",
    "result_id = np.argmax(some_digit_score)\n",
    "print(svm3_clf.classes_[result_id])\n",
    "print(y_train_red[4])"
   ]
  },
  {
   "cell_type": "markdown",
   "metadata": {},
   "source": [
    "### 3. 커널 SVC 실습 \n",
    "\n",
    "* xor 연산과 관련된 데이터셋  \n",
    "\n",
    "* 퍼셉트론의 한계를 보여준 예이자, 다층 신경망의 유용함을 보여준 예  "
   ]
  },
  {
   "cell_type": "code",
   "execution_count": 27,
   "metadata": {},
   "outputs": [
    {
     "data": {
      "image/png": "[encoded data removed]",
      "text/plain": [
       "<Figure size 432x288 with 1 Axes>"
      ]
     },
     "metadata": {
      "needs_background": "light"
     },
     "output_type": "display_data"
    }
   ],
   "source": [
    "np.random.seed(0)\n",
    "\n",
    "X = np.random.randn(200, 2)\n",
    "y = np.logical_xor(X[:, 0] > 0, X[:, 1] > 0)\n",
    "y = y.astype(np.uint8)\n",
    "\n",
    "plt.scatter(X[y == 1, 0], X[y == 1, 1],\n",
    "            c='b', marker='o', label='label1', s=10, alpha=0.8)\n",
    "plt.scatter(X[y == 0, 0], X[y == 0, 1],\n",
    "            c='r', marker='s', label='label0', s=10, alpha=0.8)\n",
    "plt.legend()\n",
    "plt.xlabel(r\"$x_1$\")\n",
    "plt.ylabel(r\"$x_2$\")\n",
    "plt.show()"
   ]
  },
  {
   "cell_type": "code",
   "execution_count": 28,
   "metadata": {},
   "outputs": [
    {
     "data": {
      "text/plain": [
       "SVC(C=1000, degree=2, kernel='poly')"
      ]
     },
     "execution_count": 28,
     "metadata": {},
     "output_type": "execute_result"
    }
   ],
   "source": [
    "# 2차 다항식 커널을 이용한 SVC모델 (xy 항이 생기므로 분리가능)\n",
    "\n",
    "poly_svm_clf = SVC(kernel=\"poly\", degree=2)\n",
    "poly_svm_clf.fit(X,y)\n",
    "\n",
    "\n",
    "poly_svm_clf1000 = SVC(kernel=\"poly\", degree=2, C=1000)\n",
    "poly_svm_clf1000.fit(X,y)"
   ]
  },
  {
   "cell_type": "code",
   "execution_count": 30,
   "metadata": {},
   "outputs": [],
   "source": [
    "import matplotlib as mpl\n",
    "\n",
    "def plot_xor(x1, x2, model, title=None, x1min=-3, x1max=3, x2min=-3, x2max=3):\n",
    "    xx1, xx2 = np.meshgrid(np.linspace(x1min, x1max,1000),\n",
    "                         np.linspace(x2min, x2max,1000))\n",
    "    zz = np.reshape(model.predict(\n",
    "        np.array([xx1.ravel(), xx2.ravel()]).T), xx1.shape)\n",
    "    plt.contourf(xx1, xx2, zz, cmap=mpl.cm.Paired_r, alpha=0.3)\n",
    "    \n",
    "    y = np.logical_xor(x1 > 0, x2 > 0)\n",
    "\n",
    "    plt.scatter(x1[y], x2[y], c='b',\n",
    "                marker='o', label='label:1', s=10)\n",
    "    plt.scatter(x1[~y], x2[~y], c='r',\n",
    "                marker='s', label='label:0', s=10)\n",
    "    plt.xlim(x1min, x1max)\n",
    "    plt.ylim(x2min, x2max)\n",
    "    plt.title(title)\n",
    "    plt.xlabel(r\"$x_1$\")\n",
    "    plt.ylabel(r\"$x_2$\")"
   ]
  },
  {
   "cell_type": "code",
   "execution_count": 31,
   "metadata": {},
   "outputs": [
    {
     "data": {
      "image/png": "[encoded data removed]",
      "text/plain": [
       "<Figure size 576x288 with 2 Axes>"
      ]
     },
     "metadata": {
      "needs_background": "light"
     },
     "output_type": "display_data"
    }
   ],
   "source": [
    "plt.figure(figsize=(8,4))\n",
    "plt.subplot(121)\n",
    "plot_xor(X[:,0],X[:,1],poly_svm_clf, title=\"C=1\")\n",
    "plt.subplot(122)\n",
    "plot_xor(X[:,0],X[:,1],poly_svm_clf1000, title=\"C=1000\")"
   ]
  },
  {
   "cell_type": "markdown",
   "metadata": {},
   "source": [
    "## 코드 연습문제  \n",
    "\n",
    "1) 사이킷런에서 `OneVsOneClassifier`([API](https://scikit-learn.org/stable/modules/generated/sklearn.multiclass.OneVsOneClassifier.html?highlight=onevsoneclassifier#sklearn.multiclass.OneVsOneClassifier))나 `OneVsRestClassifier`([API](https://scikit-learn.org/stable/modules/generated/sklearn.multiclass.OneVsRestClassifier.html#sklearn.multiclass.OneVsRestClassifier))를 이용하면 임의의 분류기 객체를 이용하여 OvO전략이나 OvR 전략을 사용하도록 강제할 수 있다. 해당 API를 읽고 사용법을 익히시오. \n",
    "\n",
    "2) 커널 SVC 실습에서 `kernel=\"poly\"`를 사용하지 말고, 전처리를 통해 2차 다항식 특성을 생성한 후 스케일링하고, 이를 SVC(kernel=\"linear\")로 학습시킨 후 결과를 비교해 보시오. \n",
    "\n",
    "3) 커널 SVC 실습에 사용된 데이터를 이용하여 \"rbf\" 커널을 사용하는 SVC 모델로 학습을 시키되, `gamma` 파라미터가 $0.1,\\ 1,\\ 10,\\ 100$인 각각의 예측기를 만들어서 그 결과를 그림으로 비교하고, `gamma`의 의미를 확인하시오. \n",
    "\n",
    "> * 그림을 그릴 때는 설명에서 정의한 plot_xor 함수를 이용  \n",
    "> * 4개의 그림을 2x2 격자형태로 나열하려면 위 설명에서 마지막 코드에서  \n",
    ">> * plt.figure(figsize=(8,8))\n",
    ">> * n=1,2,3,4일 때, plt.suplot(22n)을 이용하면 됨  \n",
    "\n",
    "4) 다음 코드를 실행시켜 두 개의 반달모양 데이터셋을 생성하고 그림을 확인한 뒤, 다양한 커널 SVC를 이용하여 분류하고, 성능을 비교하여 보시오. \n",
    "\n",
    "    from sklearn.datasets import make_moons\n",
    "    \n",
    "    X, y = make_moons(n_samples=300, noise=0.15)\n",
    "    plt.scatter(X[y==1,0], X[y==1,1], c='b', marker='o', label=\"label:1\", s=10)\n",
    "    plt.scatter(X[y==0,0], X[y==0,1], c='r', marker='s', label=\"label:0\", s=10)\n",
    "    plt.legend()\n",
    "    plt.show()"
   ]
  },
  {
   "cell_type": "code",
   "execution_count": 5,
   "metadata": {},
   "outputs": [
    {
     "data": {
      "image/png": "[encoded data removed]",
      "text/plain": [
       "<Figure size 432x288 with 1 Axes>"
      ]
     },
     "metadata": {
      "needs_background": "light"
     },
     "output_type": "display_data"
    }
   ],
   "source": [
    "from sklearn.datasets import make_moons\n",
    "X, y = make_moons(n_samples=300, noise=0.15)\n",
    "plt.scatter(X[y==1,0], X[y==1,1], c='b', marker='o', label=\"label:1\", s=10)\n",
    "plt.scatter(X[y==0,0], X[y==0,1], c='r', marker='s', label=\"label:0\", s=10)\n",
    "plt.legend()\n",
    "plt.show()"
   ]
  },
  {
   "cell_type": "code",
   "execution_count": null,
   "metadata": {},
   "outputs": [],
   "source": []
  }
 ],
 "metadata": {
  "kernelspec": {
   "display_name": "Python 3 (ipykernel)",
   "language": "python",
   "name": "python3"
  },
  "language_info": {
   "codemirror_mode": {
    "name": "ipython",
    "version": 3
   },
   "file_extension": ".py",
   "mimetype": "text/x-python",
   "name": "python",
   "nbconvert_exporter": "python",
   "pygments_lexer": "ipython3",
   "version": "3.7.11"
  },
  "toc": {
   "base_numbering": 1,
   "nav_menu": {},
   "number_sections": true,
   "sideBar": true,
   "skip_h1_title": false,
   "title_cell": "Table of Contents",
   "title_sidebar": "Contents",
   "toc_cell": false,
   "toc_position": {},
   "toc_section_display": true,
   "toc_window_display": false
  }
 },
 "nbformat": 4,
 "nbformat_minor": 4
}
