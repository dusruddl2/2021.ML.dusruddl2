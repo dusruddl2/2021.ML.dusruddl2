{
 "cells": [
  {
   "cell_type": "code",
   "execution_count": 2,
   "id": "5f5d9147",
   "metadata": {},
   "outputs": [],
   "source": [
    "import numpy as np\n",
    "import matplotlib.pyplot as plt\n",
    "%matplotlib inline"
   ]
  },
  {
   "cell_type": "code",
   "execution_count": 3,
   "id": "92d6049b",
   "metadata": {},
   "outputs": [
    {
     "data": {
      "text/plain": [
       "<matplotlib.legend.Legend at 0x1611279e948>"
      ]
     },
     "execution_count": 3,
     "metadata": {},
     "output_type": "execute_result"
    },
    {
     "data": {
      "image/png": "[encoded data removed]",
      "text/plain": [
       "<Figure size 432x288 with 1 Axes>"
      ]
     },
     "metadata": {
      "needs_background": "light"
     },
     "output_type": "display_data"
    }
   ],
   "source": [
    "def sigmoid(x):\n",
    "    return 1/(1+np.exp(-x))\n",
    "\n",
    "xlist = np.linspace(-10,10,1000)\n",
    "ylist = sigmoid(xlist)\n",
    "\n",
    "plt.plot(xlist,ylist, label=r\"$\\sigma (t)=\\dfrac{1}{1+\\exp(-t)}$\")\n",
    "\n",
    "plt.plot([-10,10],[0.5,0.5], 'r--', linewidth=0.6)\n",
    "plt.plot([-10,10],[1,1], 'r--', linewidth=0.6)\n",
    "plt.plot([-10,10],[0,0], 'r--', linewidth=0.6)\n",
    "plt.plot([0,0],[0,1],'r--', linewidth=0.6)\n",
    "\n",
    "plt.legend(loc=\"upper left\", fontsize=10)"
   ]
  },
  {
   "cell_type": "code",
   "execution_count": 5,
   "id": "11ee804d",
   "metadata": {},
   "outputs": [],
   "source": [
    "# 데이터셋 로드\n",
    "from sklearn import datasets"
   ]
  },
  {
   "cell_type": "code",
   "execution_count": 6,
   "id": "f2510735",
   "metadata": {},
   "outputs": [],
   "source": [
    "iris = datasets.load_iris()"
   ]
  },
  {
   "cell_type": "code",
   "execution_count": 7,
   "id": "75db1ced",
   "metadata": {},
   "outputs": [
    {
     "data": {
      "text/plain": [
       "dict_keys(['data', 'target', 'frame', 'target_names', 'DESCR', 'feature_names', 'filename'])"
      ]
     },
     "execution_count": 7,
     "metadata": {},
     "output_type": "execute_result"
    }
   ],
   "source": [
    "# 로드된 데이터셋은 일종의 dictionary 형태\n",
    "iris.keys()"
   ]
  },
  {
   "cell_type": "code",
   "execution_count": 8,
   "id": "6f49148c",
   "metadata": {},
   "outputs": [
    {
     "name": "stdout",
     "output_type": "stream",
     "text": [
      ".. _iris_dataset:\n",
      "\n",
      "Iris plants dataset\n",
      "--------------------\n",
      "\n",
      "**Data Set Characteristics:**\n",
      "\n",
      "    :Number of Instances: 150 (50 in each of three classes)\n",
      "    :Number of Attributes: 4 numeric, predictive attributes and the class\n",
      "    :Attribute Information:\n",
      "        - sepal length in cm\n",
      "        - sepal width in cm\n",
      "        - petal length in cm\n",
      "        - petal width in cm\n",
      "        - class:\n",
      "                - Iris-Setosa\n",
      "                - Iris-Versicolour\n",
      "                - Iris-Virginica\n",
      "                \n",
      "    :Summary Statistics:\n",
      "\n",
      "    ============== ==== ==== ======= ===== ====================\n",
      "                    Min  Max   Mean    SD   Class Correlation\n",
      "    ============== ==== ==== ======= ===== ====================\n",
      "    sepal length:   4.3  7.9   5.84   0.83    0.7826\n",
      "    sepal width:    2.0  4.4   3.05   0.43   -0.4194\n",
      "    petal length:   1.0  6.9   3.76   1.76    0.9490  (high!)\n",
      "    petal width:    0.1  2.5   1.20   0.76    0.9565  (high!)\n",
      "    ============== ==== ==== ======= ===== ====================\n",
      "\n",
      "    :Missing Attribute Values: None\n",
      "    :Class Distribution: 33.3% for each of 3 classes.\n",
      "    :Creator: R.A. Fisher\n",
      "    :Donor: Michael Marshall (MARSHALL%PLU@io.arc.nasa.gov)\n",
      "    :Date: July, 1988\n",
      "\n",
      "The famous Iris database, first used by Sir R.A. Fisher. The dataset is taken\n",
      "from Fisher's paper. Note that it's the same as in R, but not as in the UCI\n",
      "Machine Learning Repository, which has two wrong data points.\n",
      "\n",
      "This is perhaps the best known database to be found in the\n",
      "pattern recognition literature.  Fisher's paper is a classic in the field and\n",
      "is referenced frequently to this day.  (See Duda & Hart, for example.)  The\n",
      "data set contains 3 classes of 50 instances each, where each class refers to a\n",
      "type of iris plant.  One class is linearly separable from the other 2; the\n",
      "latter are NOT linearly separable from each other.\n",
      "\n",
      ".. topic:: References\n",
      "\n",
      "   - Fisher, R.A. \"The use of multiple measurements in taxonomic problems\"\n",
      "     Annual Eugenics, 7, Part II, 179-188 (1936); also in \"Contributions to\n",
      "     Mathematical Statistics\" (John Wiley, NY, 1950).\n",
      "   - Duda, R.O., & Hart, P.E. (1973) Pattern Classification and Scene Analysis.\n",
      "     (Q327.D83) John Wiley & Sons.  ISBN 0-471-22361-1.  See page 218.\n",
      "   - Dasarathy, B.V. (1980) \"Nosing Around the Neighborhood: A New System\n",
      "     Structure and Classification Rule for Recognition in Partially Exposed\n",
      "     Environments\".  IEEE Transactions on Pattern Analysis and Machine\n",
      "     Intelligence, Vol. PAMI-2, No. 1, 67-71.\n",
      "   - Gates, G.W. (1972) \"The Reduced Nearest Neighbor Rule\".  IEEE Transactions\n",
      "     on Information Theory, May 1972, 431-433.\n",
      "   - See also: 1988 MLC Proceedings, 54-64.  Cheeseman et al\"s AUTOCLASS II\n",
      "     conceptual clustering system finds 3 classes in the data.\n",
      "   - Many, many more ...\n"
     ]
    }
   ],
   "source": [
    "print(iris[\"DESCR\"])"
   ]
  },
  {
   "cell_type": "code",
   "execution_count": 9,
   "id": "990a70fe",
   "metadata": {},
   "outputs": [
    {
     "data": {
      "text/plain": [
       "['sepal length (cm)',\n",
       " 'sepal width (cm)',\n",
       " 'petal length (cm)',\n",
       " 'petal width (cm)']"
      ]
     },
     "execution_count": 9,
     "metadata": {},
     "output_type": "execute_result"
    }
   ],
   "source": [
    "iris[\"feature_names\"]"
   ]
  },
  {
   "cell_type": "code",
   "execution_count": 10,
   "id": "8aa95a14",
   "metadata": {},
   "outputs": [
    {
     "data": {
      "text/plain": [
       "array(['setosa', 'versicolor', 'virginica'], dtype='<U10')"
      ]
     },
     "execution_count": 10,
     "metadata": {},
     "output_type": "execute_result"
    }
   ],
   "source": [
    "iris[\"target_names\"]"
   ]
  },
  {
   "cell_type": "code",
   "execution_count": 12,
   "id": "98cb77ae",
   "metadata": {},
   "outputs": [
    {
     "data": {
      "text/plain": [
       "array([[5.1, 3.5, 1.4, 0.2],\n",
       "       [4.9, 3. , 1.4, 0.2],\n",
       "       [4.7, 3.2, 1.3, 0.2]])"
      ]
     },
     "execution_count": 12,
     "metadata": {},
     "output_type": "execute_result"
    }
   ],
   "source": [
    "iris[\"data\"][:3]"
   ]
  },
  {
   "cell_type": "code",
   "execution_count": 18,
   "id": "a6c2458e",
   "metadata": {},
   "outputs": [
    {
     "data": {
      "text/plain": [
       "array([0, 0, 0, 0, 0, 0, 0, 0, 0, 0, 0, 0, 0, 0, 0, 0, 0, 0, 0, 0, 0, 0,\n",
       "       0, 0, 0, 0, 0, 0, 0, 0, 0, 0, 0, 0, 0, 0, 0, 0, 0, 0, 0, 0, 0, 0,\n",
       "       0, 0, 0, 0, 0, 0, 1, 1, 1, 1, 1, 1, 1, 1, 1, 1, 1, 1, 1, 1, 1, 1,\n",
       "       1, 1, 1, 1, 1, 1, 1, 1, 1, 1, 1, 1, 1, 1, 1, 1, 1, 1, 1, 1, 1, 1,\n",
       "       1, 1, 1, 1, 1, 1, 1, 1, 1, 1, 1, 1, 2, 2, 2, 2, 2, 2, 2, 2, 2, 2,\n",
       "       2, 2, 2, 2, 2, 2, 2, 2, 2, 2, 2, 2, 2, 2, 2, 2, 2, 2, 2, 2, 2, 2,\n",
       "       2, 2, 2, 2, 2, 2, 2, 2, 2, 2, 2, 2, 2, 2, 2, 2, 2, 2])"
      ]
     },
     "execution_count": 18,
     "metadata": {},
     "output_type": "execute_result"
    }
   ],
   "source": [
    "# 0: setosa 1 : versicolor 2 : virginica\n",
    "iris[\"target\"][:150]"
   ]
  },
  {
   "cell_type": "code",
   "execution_count": 25,
   "id": "c236f58d",
   "metadata": {},
   "outputs": [
    {
     "name": "stderr",
     "output_type": "stream",
     "text": [
      "C:\\Users\\82108\\anaconda3\\envs\\ML2021\\lib\\site-packages\\ipykernel_launcher.py:4: DeprecationWarning: `np.int` is a deprecated alias for the builtin `int`. To silence this warning, use `int` by itself. Doing this will not modify any behavior and is safe. When replacing `np.int`, you may wish to use e.g. `np.int64` or `np.int32` to specify the precision. If you wish to review your current use, check the release note link for additional information.\n",
      "Deprecated in NumPy 1.20; for more details and guidance: https://numpy.org/devdocs/release/1.20.0-notes.html#deprecations\n",
      "  after removing the cwd from sys.path.\n"
     ]
    }
   ],
   "source": [
    "# 꽃잎의 너비(petal)을 이용하여 virginica이면 label 1, 아니면 label 0이 되도록 학습\n",
    "\n",
    "X = iris[\"data\"][:,3:] # 뒤에 :를 붙이는 이유는 차원을 그대로 가져오기 위해 !! (2차원)\n",
    "y = (iris[\"target\"]==2).astype(np.int)"
   ]
  },
  {
   "cell_type": "code",
   "execution_count": 27,
   "id": "5d8ba818",
   "metadata": {},
   "outputs": [],
   "source": [
    "from sklearn.linear_model import LogisticRegression"
   ]
  },
  {
   "cell_type": "code",
   "execution_count": 28,
   "id": "a784d06c",
   "metadata": {},
   "outputs": [
    {
     "data": {
      "text/plain": [
       "LogisticRegression(penalty='none')"
      ]
     },
     "execution_count": 28,
     "metadata": {},
     "output_type": "execute_result"
    }
   ],
   "source": [
    "log_reg = LogisticRegression(penalty=\"none\")\n",
    "log_reg.fit(X,y)"
   ]
  },
  {
   "cell_type": "code",
   "execution_count": 30,
   "id": "f7cdf6b2",
   "metadata": {},
   "outputs": [
    {
     "data": {
      "text/plain": [
       "<matplotlib.legend.Legend at 0x1611663d948>"
      ]
     },
     "execution_count": 30,
     "metadata": {},
     "output_type": "execute_result"
    },
    {
     "data": {
      "image/png": "[encoded data removed]",
      "text/plain": [
       "<Figure size 432x288 with 1 Axes>"
      ]
     },
     "metadata": {
      "needs_background": "light"
     },
     "output_type": "display_data"
    }
   ],
   "source": [
    "X_new = np.linspace(0,3,100).reshape(-1,1) # reshape을 하는 이유 : 2차원 차원을 만들기 위해서\n",
    "y_new_proba = log_reg.predict_proba(X_new)\n",
    "\n",
    "plt.plot(X_new, y_new_proba[:,1], \"g-\", label = \"Iris virginica\")\n",
    "plt.plot(X_new, y_new_proba[:,0], \"r--\", label = \"Non Iris virginica\")\n",
    "plt.legend(loc = \"upper left\",fontsize = 10)"
   ]
  },
  {
   "cell_type": "code",
   "execution_count": 39,
   "id": "cafd64d0",
   "metadata": {},
   "outputs": [
    {
     "name": "stdout",
     "output_type": "stream",
     "text": [
      "0.51529313483943\n",
      "54\n",
      "Virginica로 판별하는 너비의 길이 : 대략 1.64cm 이상일 때\n"
     ]
    }
   ],
   "source": [
    "positive_idx = y_new_proba >= 0.5\n",
    "print(np.min(y_new_proba[positive_idx]))\n",
    "decision_id = np.argmin(y_new_proba[positive_idx])\n",
    "print(np.argmin(y_new_proba[positive_idx]))\n",
    "print(f\"Virginica로 판별하는 너비의 길이 : 대략 {X_new[decision_id,0]:.2f}cm 이상일 때\")"
   ]
  },
  {
   "cell_type": "code",
   "execution_count": 46,
   "id": "0cf5a0b1",
   "metadata": {},
   "outputs": [
    {
     "name": "stderr",
     "output_type": "stream",
     "text": [
      "C:\\Users\\82108\\anaconda3\\envs\\ML2021\\lib\\site-packages\\ipykernel_launcher.py:2: DeprecationWarning: `np.int` is a deprecated alias for the builtin `int`. To silence this warning, use `int` by itself. Doing this will not modify any behavior and is safe. When replacing `np.int`, you may wish to use e.g. `np.int64` or `np.int32` to specify the precision. If you wish to review your current use, check the release note link for additional information.\n",
      "Deprecated in NumPy 1.20; for more details and guidance: https://numpy.org/devdocs/release/1.20.0-notes.html#deprecations\n",
      "  \n"
     ]
    },
    {
     "data": {
      "image/png": "[encoded data removed]",
      "text/plain": [
       "<Figure size 576x360 with 1 Axes>"
      ]
     },
     "metadata": {
      "needs_background": "light"
     },
     "output_type": "display_data"
    }
   ],
   "source": [
    "X2 = iris[\"data\"][:,2:] # 꽃잎의 길이, 너비\n",
    "y2 = (iris[\"target\"]==2).astype(np.int)\n",
    "\n",
    "log_reg2 = LogisticRegression(C=10**10,random_state=42) # 규제가 있는 모델 (C:alpha의 역수 역할, 작으면 작을 수록 규제 up, C값이 크니까 규제가 없도록 설계)\n",
    "log_reg2.fit(X2,y2)\n",
    "\n",
    "# 그림을 그리기 위한 작업 (P: 관심없으면 이해 못해도 ok)\n",
    "x0, x1 = np.meshgrid(\n",
    "    np.linspace(0.8,7,800).reshape(-1,1),\n",
    "    np.linspace(0,2.7,400).reshape(-1,1),\n",
    ")\n",
    "\n",
    "X2_new = np.column_stack([x0.ravel(),x1.ravel()])\n",
    "y2_proba = log_reg2.predict_proba(X2_new)\n",
    "\n",
    "plt.figure(figsize=(8,5))\n",
    "plt.plot(X2[y2==0,0],X2[y2==0,1],\"rx\",alpha=0.3)\n",
    "plt.plot(X2[y2==1,0],X2[y2==1,1],\"go\",alpha=0.3)\n",
    "\n",
    "zz = y2_proba[:,1].reshape(x0.shape) # y2_proba는 label 0이 되는 확률, label 1이 되는 확률 쌍으로 => 그 중 label 1이 되는 확률\n",
    "contour = plt.contour(x0, x1, zz, levels=9, cmap=plt.cm.RdYlGn)\n",
    "\n",
    "# 확률이 0.5인 결정 경계 계산\n",
    "left_right = np.array([2.9, 7])\n",
    "boundary = -(log_reg2.coef_[0][0] * left_right + log_reg2.intercept_[0]) / log_reg2.coef_[0][1]\n",
    "\n",
    "# 등위선에 대응되는 확률값 표시 \n",
    "plt.clabel(contour, inline=1, fontsize=10, fmt='%1.2f')\n",
    "plt.plot(left_right, boundary, \"k--\", linewidth=1)\n",
    "plt.text(3.5, 1.5, \"Not Iris virginica\", fontsize=10, color=\"r\", ha=\"center\")\n",
    "plt.text(6.5, 2.3, \"Iris virginica\", fontsize=10, color=\"g\", ha=\"center\")\n",
    "plt.xlabel(\"Petal length\", fontsize=10)\n",
    "plt.ylabel(\"Petal width\", fontsize=10)\n",
    "# plt.axis([2.9, 7, 0.8, 2.7])\n",
    "plt.show()"
   ]
  },
  {
   "cell_type": "code",
   "execution_count": 49,
   "id": "170b557d",
   "metadata": {},
   "outputs": [],
   "source": [
    "def softmax_pre(x): # x는 넘파이 배열\n",
    "    x = np.exp(x)\n",
    "    return x/x.sum()"
   ]
  },
  {
   "cell_type": "code",
   "execution_count": 52,
   "id": "6f2741bd",
   "metadata": {},
   "outputs": [
    {
     "name": "stdout",
     "output_type": "stream",
     "text": [
      "[1.00000000e+000 2.44396947e-307 6.64339780e-307 3.27084919e-265]\n",
      "[1. 0. 0. 0.]\n"
     ]
    }
   ],
   "source": [
    "# overflow가 생기지 않는 경우\n",
    "\n",
    "x1 = np.array([709,3,4,100])\n",
    "print(softmax_pre(x1))\n",
    "print(np.round(1e3 * softmax_pre(x1))/1e3)"
   ]
  },
  {
   "cell_type": "code",
   "execution_count": 54,
   "id": "c6fea1e3",
   "metadata": {},
   "outputs": [
    {
     "name": "stdout",
     "output_type": "stream",
     "text": [
      "[nan  0.  0.  0.]\n"
     ]
    },
    {
     "name": "stderr",
     "output_type": "stream",
     "text": [
      "C:\\Users\\82108\\anaconda3\\envs\\ML2021\\lib\\site-packages\\ipykernel_launcher.py:2: RuntimeWarning: overflow encountered in exp\n",
      "  \n",
      "C:\\Users\\82108\\anaconda3\\envs\\ML2021\\lib\\site-packages\\ipykernel_launcher.py:3: RuntimeWarning: invalid value encountered in true_divide\n",
      "  This is separate from the ipykernel package so we can avoid doing imports until\n"
     ]
    }
   ],
   "source": [
    "# overflow가 생기는 경우\n",
    "\n",
    "x2 = np.array([710,3,4,100])\n",
    "print(softmax_pre(x2))"
   ]
  },
  {
   "cell_type": "code",
   "execution_count": 65,
   "id": "5b9f0d09",
   "metadata": {},
   "outputs": [],
   "source": [
    "def softmax(x):\n",
    "    M = np.max(x)\n",
    "    x = np.exp(x - M)\n",
    "    \n",
    "    return x / x.sum()"
   ]
  },
  {
   "cell_type": "code",
   "execution_count": 66,
   "id": "d7235052",
   "metadata": {},
   "outputs": [
    {
     "name": "stdout",
     "output_type": "stream",
     "text": [
      "[1. 0. 0. 0.]\n",
      "[1. 0. 0. 0.]\n"
     ]
    }
   ],
   "source": [
    "# 구현 확인\n",
    "\n",
    "x3 = np.array([10**19, 790, 800, 100])\n",
    "print(softmax(x3))\n",
    "print(np.round(1e3*softmax(x3))/1e3)"
   ]
  },
  {
   "cell_type": "code",
   "execution_count": 67,
   "id": "990f2d5b",
   "metadata": {},
   "outputs": [
    {
     "data": {
      "text/plain": [
       "LogisticRegression(C=10, multi_class='multinomial', random_state=42)"
      ]
     },
     "execution_count": 67,
     "metadata": {},
     "output_type": "execute_result"
    }
   ],
   "source": [
    "X = iris[\"data\"][:,2:] # 꽃잎 길이, 꽃잎 너비\n",
    "y = iris[\"target\"]\n",
    "\n",
    "softmax_reg = LogisticRegression(multi_class=\"multinomial\",solver=\"lbfgs\",C=10,random_state=42)\n",
    "softmax_reg.fit(X,y)"
   ]
  },
  {
   "cell_type": "code",
   "execution_count": null,
   "id": "3eb64708",
   "metadata": {},
   "outputs": [],
   "source": [
    "# 결정 경계를 그림으로 나타내기\n",
    "x0, x1 = np.meshgrid(\n",
    "        np.linspace(0, 8, 500).reshape(-1, 1),\n",
    "        np.linspace(0, 3.5, 200).reshape(-1, 1),\n",
    "    )\n",
    "\n",
    "X_new = np.column_stack([x0.ravel(), x1.ravel()])\n",
    "\n",
    "y_proba = softmax_reg.predict_proba(X_new)\n",
    "y_predict = softmax_reg.predict(X_new)\n",
    "\n",
    "zz2 = y_proba[:, 2].reshape(x0.shape)\n",
    "zz1 = y_proba[:, 1].reshape(x0.shape)\n",
    "\n",
    "zz = y_predict.reshape(x0.shape)\n",
    "\n",
    "plt.figure(figsize=(10,6))\n",
    "plt.plot(X[y==2, 0], X[y==2, 1], \"go\", label=\"Iris virginica\", alpha=0.3)\n",
    "plt.plot(X[y==1, 0], X[y==1, 1], \"rs\", label=\"Iris versicolor\", alpha=0.3)\n",
    "plt.plot(X[y==0, 0], X[y==0, 1], \"bx\", label=\"Iris setosa\", alpha=0.3)\n",
    "\n",
    "from matplotlib.colors import ListedColormap\n",
    "custom_cmap = ListedColormap([\"blue\", \"red\",  \"green\"])\n",
    "custom_cmap1 = ListedColormap([\"tomato\", \"red\", \"darkred\"])\n",
    "custom_cmap2 = ListedColormap([\"teal\", \"green\", \"darkgreen\"])\n",
    "plt.contourf(x0, x1, zz, cmap=custom_cmap, alpha=0.2)\n",
    "contour1 = plt.contour(x0, x1, zz1, cmap=custom_cmap1, linewidths=0.5)\n",
    "contour2 = plt.contour(x0, x1, zz2, cmap=custom_cmap2, linewidths=0.5)\n",
    "plt.clabel(contour1, inline=False, fontsize=10, fmt='%1.2f')\n",
    "plt.clabel(contour2, inline=False, fontsize=10, fmt='%1.2f')\n",
    "\n",
    "plt.xlabel(\"Petal length\", fontsize=10)\n",
    "plt.ylabel(\"Petal width\", fontsize=10)\n",
    "plt.legend(loc=\"center left\", fontsize=10)\n",
    "plt.axis([0, 7, 0, 3.5])\n",
    "plt.show()"
   ]
  },
  {
   "cell_type": "code",
   "execution_count": 69,
   "id": "1157888e",
   "metadata": {
    "scrolled": true
   },
   "outputs": [
    {
     "data": {
      "text/plain": [
       "(100, 1)"
      ]
     },
     "execution_count": 69,
     "metadata": {},
     "output_type": "execute_result"
    }
   ],
   "source": [
    "X_new.shape"
   ]
  },
  {
   "cell_type": "code",
   "execution_count": null,
   "id": "92ee9a5c",
   "metadata": {},
   "outputs": [],
   "source": []
  }
 ],
 "metadata": {
  "kernelspec": {
   "display_name": "Python 3 (ipykernel)",
   "language": "python",
   "name": "python3"
  },
  "language_info": {
   "codemirror_mode": {
    "name": "ipython",
    "version": 3
   },
   "file_extension": ".py",
   "mimetype": "text/x-python",
   "name": "python",
   "nbconvert_exporter": "python",
   "pygments_lexer": "ipython3",
   "version": "3.7.11"
  },
  "toc": {
   "base_numbering": 1,
   "nav_menu": {},
   "number_sections": true,
   "sideBar": true,
   "skip_h1_title": false,
   "title_cell": "Table of Contents",
   "title_sidebar": "Contents",
   "toc_cell": false,
   "toc_position": {},
   "toc_section_display": true,
   "toc_window_display": false
  }
 },
 "nbformat": 4,
 "nbformat_minor": 5
}
