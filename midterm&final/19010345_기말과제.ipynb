{
 "cells": [
  {
   "cell_type": "markdown",
   "id": "157fd208",
   "metadata": {},
   "source": [
    "- 첨부하는 \"sonar.all-data.csv\" 파일은 **실린더모양의 암석(R)에서 튕겨져 나온 음파신호**와  **실린더 모양의 금속(M)에서 튕겨져 나온 음파신호**에 대한 정보를 담은 파일\n",
    "- 이 csv 파일에는 **header가 없으며 208개의 샘플**에 대한 정보를 담고 있다. (처음부터 60개의 열은 0.1부터 1.0사이의 값을 갖는 특성이 저장되어 있고, 마지막 열에는 암석(R)인지 금속(M)인지가 저장되어 있다.)"
   ]
  },
  {
   "cell_type": "markdown",
   "id": "5c6637cb",
   "metadata": {},
   "source": [
    "쥬피터노트북에서 csv파일을 읽어들여 특성을 담은 X와 레이블을 담은 Y로 데이터 샘플을 만들고 아래의 작업을 수행한 후 쥬피터노트북 파일(ipynb파일)의 제목을 자신의 학번으로 만들어 12월17일 금요일 자정까지 제출하시오."
   ]
  },
  {
   "cell_type": "markdown",
   "id": "fd5639cf",
   "metadata": {},
   "source": [
    "- 주어진 데이터 샘플을 이용하여 주어진 특성벡터(60차원)에 대해 R인지 M인지를 판별하는 3가지 모델을 **교차검증을 이용한 파라미터 설정을 포함하여 학습**시키고, **'accuracy'에 대한 cross_val_score**를 각각 구하시오."
   ]
  },
  {
   "cell_type": "markdown",
   "id": "159374cf",
   "metadata": {},
   "source": [
    "# 특성벡터와 레이블벡터 만들기"
   ]
  },
  {
   "cell_type": "markdown",
   "id": "4742d6fe",
   "metadata": {},
   "source": [
    "### csv 파일 읽어들여 X와 Y를 만들기"
   ]
  },
  {
   "cell_type": "code",
   "execution_count": 1,
   "id": "7bf02c5f",
   "metadata": {},
   "outputs": [],
   "source": [
    "import numpy as np\n",
    "import pandas as pd\n",
    "import warnings\n",
    "warnings.filterwarnings(action='ignore')"
   ]
  },
  {
   "cell_type": "code",
   "execution_count": 2,
   "id": "c3d10204",
   "metadata": {},
   "outputs": [],
   "source": [
    "file_dir = 'C:/Users/82108/Desktop/dldusrud/3학년 2학기/ML2021/'"
   ]
  },
  {
   "cell_type": "code",
   "execution_count": 3,
   "id": "fc253056",
   "metadata": {},
   "outputs": [],
   "source": [
    "data_sonar = pd.read_csv(file_dir + 'sonar.all-data.csv', header=None)"
   ]
  },
  {
   "cell_type": "code",
   "execution_count": 4,
   "id": "ec787ad9",
   "metadata": {
    "scrolled": true
   },
   "outputs": [
    {
     "data": {
      "text/html": [
       "<div>\n",
       "<style scoped>\n",
       "    .dataframe tbody tr th:only-of-type {\n",
       "        vertical-align: middle;\n",
       "    }\n",
       "\n",
       "    .dataframe tbody tr th {\n",
       "        vertical-align: top;\n",
       "    }\n",
       "\n",
       "    .dataframe thead th {\n",
       "        text-align: right;\n",
       "    }\n",
       "</style>\n",
       "<table border=\"1\" class=\"dataframe\">\n",
       "  <thead>\n",
       "    <tr style=\"text-align: right;\">\n",
       "      <th></th>\n",
       "      <th>0</th>\n",
       "      <th>1</th>\n",
       "      <th>2</th>\n",
       "      <th>3</th>\n",
       "      <th>4</th>\n",
       "      <th>5</th>\n",
       "      <th>6</th>\n",
       "      <th>7</th>\n",
       "      <th>8</th>\n",
       "      <th>9</th>\n",
       "      <th>...</th>\n",
       "      <th>51</th>\n",
       "      <th>52</th>\n",
       "      <th>53</th>\n",
       "      <th>54</th>\n",
       "      <th>55</th>\n",
       "      <th>56</th>\n",
       "      <th>57</th>\n",
       "      <th>58</th>\n",
       "      <th>59</th>\n",
       "      <th>60</th>\n",
       "    </tr>\n",
       "  </thead>\n",
       "  <tbody>\n",
       "    <tr>\n",
       "      <th>0</th>\n",
       "      <td>0.0200</td>\n",
       "      <td>0.0371</td>\n",
       "      <td>0.0428</td>\n",
       "      <td>0.0207</td>\n",
       "      <td>0.0954</td>\n",
       "      <td>0.0986</td>\n",
       "      <td>0.1539</td>\n",
       "      <td>0.1601</td>\n",
       "      <td>0.3109</td>\n",
       "      <td>0.2111</td>\n",
       "      <td>...</td>\n",
       "      <td>0.0027</td>\n",
       "      <td>0.0065</td>\n",
       "      <td>0.0159</td>\n",
       "      <td>0.0072</td>\n",
       "      <td>0.0167</td>\n",
       "      <td>0.0180</td>\n",
       "      <td>0.0084</td>\n",
       "      <td>0.0090</td>\n",
       "      <td>0.0032</td>\n",
       "      <td>R</td>\n",
       "    </tr>\n",
       "    <tr>\n",
       "      <th>1</th>\n",
       "      <td>0.0453</td>\n",
       "      <td>0.0523</td>\n",
       "      <td>0.0843</td>\n",
       "      <td>0.0689</td>\n",
       "      <td>0.1183</td>\n",
       "      <td>0.2583</td>\n",
       "      <td>0.2156</td>\n",
       "      <td>0.3481</td>\n",
       "      <td>0.3337</td>\n",
       "      <td>0.2872</td>\n",
       "      <td>...</td>\n",
       "      <td>0.0084</td>\n",
       "      <td>0.0089</td>\n",
       "      <td>0.0048</td>\n",
       "      <td>0.0094</td>\n",
       "      <td>0.0191</td>\n",
       "      <td>0.0140</td>\n",
       "      <td>0.0049</td>\n",
       "      <td>0.0052</td>\n",
       "      <td>0.0044</td>\n",
       "      <td>R</td>\n",
       "    </tr>\n",
       "    <tr>\n",
       "      <th>2</th>\n",
       "      <td>0.0262</td>\n",
       "      <td>0.0582</td>\n",
       "      <td>0.1099</td>\n",
       "      <td>0.1083</td>\n",
       "      <td>0.0974</td>\n",
       "      <td>0.2280</td>\n",
       "      <td>0.2431</td>\n",
       "      <td>0.3771</td>\n",
       "      <td>0.5598</td>\n",
       "      <td>0.6194</td>\n",
       "      <td>...</td>\n",
       "      <td>0.0232</td>\n",
       "      <td>0.0166</td>\n",
       "      <td>0.0095</td>\n",
       "      <td>0.0180</td>\n",
       "      <td>0.0244</td>\n",
       "      <td>0.0316</td>\n",
       "      <td>0.0164</td>\n",
       "      <td>0.0095</td>\n",
       "      <td>0.0078</td>\n",
       "      <td>R</td>\n",
       "    </tr>\n",
       "    <tr>\n",
       "      <th>3</th>\n",
       "      <td>0.0100</td>\n",
       "      <td>0.0171</td>\n",
       "      <td>0.0623</td>\n",
       "      <td>0.0205</td>\n",
       "      <td>0.0205</td>\n",
       "      <td>0.0368</td>\n",
       "      <td>0.1098</td>\n",
       "      <td>0.1276</td>\n",
       "      <td>0.0598</td>\n",
       "      <td>0.1264</td>\n",
       "      <td>...</td>\n",
       "      <td>0.0121</td>\n",
       "      <td>0.0036</td>\n",
       "      <td>0.0150</td>\n",
       "      <td>0.0085</td>\n",
       "      <td>0.0073</td>\n",
       "      <td>0.0050</td>\n",
       "      <td>0.0044</td>\n",
       "      <td>0.0040</td>\n",
       "      <td>0.0117</td>\n",
       "      <td>R</td>\n",
       "    </tr>\n",
       "    <tr>\n",
       "      <th>4</th>\n",
       "      <td>0.0762</td>\n",
       "      <td>0.0666</td>\n",
       "      <td>0.0481</td>\n",
       "      <td>0.0394</td>\n",
       "      <td>0.0590</td>\n",
       "      <td>0.0649</td>\n",
       "      <td>0.1209</td>\n",
       "      <td>0.2467</td>\n",
       "      <td>0.3564</td>\n",
       "      <td>0.4459</td>\n",
       "      <td>...</td>\n",
       "      <td>0.0031</td>\n",
       "      <td>0.0054</td>\n",
       "      <td>0.0105</td>\n",
       "      <td>0.0110</td>\n",
       "      <td>0.0015</td>\n",
       "      <td>0.0072</td>\n",
       "      <td>0.0048</td>\n",
       "      <td>0.0107</td>\n",
       "      <td>0.0094</td>\n",
       "      <td>R</td>\n",
       "    </tr>\n",
       "  </tbody>\n",
       "</table>\n",
       "<p>5 rows × 61 columns</p>\n",
       "</div>"
      ],
      "text/plain": [
       "       0       1       2       3       4       5       6       7       8   \\\n",
       "0  0.0200  0.0371  0.0428  0.0207  0.0954  0.0986  0.1539  0.1601  0.3109   \n",
       "1  0.0453  0.0523  0.0843  0.0689  0.1183  0.2583  0.2156  0.3481  0.3337   \n",
       "2  0.0262  0.0582  0.1099  0.1083  0.0974  0.2280  0.2431  0.3771  0.5598   \n",
       "3  0.0100  0.0171  0.0623  0.0205  0.0205  0.0368  0.1098  0.1276  0.0598   \n",
       "4  0.0762  0.0666  0.0481  0.0394  0.0590  0.0649  0.1209  0.2467  0.3564   \n",
       "\n",
       "       9   ...      51      52      53      54      55      56      57  \\\n",
       "0  0.2111  ...  0.0027  0.0065  0.0159  0.0072  0.0167  0.0180  0.0084   \n",
       "1  0.2872  ...  0.0084  0.0089  0.0048  0.0094  0.0191  0.0140  0.0049   \n",
       "2  0.6194  ...  0.0232  0.0166  0.0095  0.0180  0.0244  0.0316  0.0164   \n",
       "3  0.1264  ...  0.0121  0.0036  0.0150  0.0085  0.0073  0.0050  0.0044   \n",
       "4  0.4459  ...  0.0031  0.0054  0.0105  0.0110  0.0015  0.0072  0.0048   \n",
       "\n",
       "       58      59  60  \n",
       "0  0.0090  0.0032   R  \n",
       "1  0.0052  0.0044   R  \n",
       "2  0.0095  0.0078   R  \n",
       "3  0.0040  0.0117   R  \n",
       "4  0.0107  0.0094   R  \n",
       "\n",
       "[5 rows x 61 columns]"
      ]
     },
     "execution_count": 4,
     "metadata": {},
     "output_type": "execute_result"
    }
   ],
   "source": [
    "data_sonar.head()"
   ]
  },
  {
   "cell_type": "code",
   "execution_count": 5,
   "id": "9dc694dc",
   "metadata": {},
   "outputs": [],
   "source": [
    "# 특성을 담은 X와 레이블을 담은 Y\n",
    "X = data_sonar.iloc[:,:60]\n",
    "y = data_sonar.iloc[:,[-1]]"
   ]
  },
  {
   "cell_type": "code",
   "execution_count": 6,
   "id": "3ebb7e99",
   "metadata": {},
   "outputs": [],
   "source": [
    "# 특성을 정규화하기\n",
    "# from sklearn.preprocessing import MinMaxScaler\n",
    "\n",
    "# X =  MinMaxScaler().fit_transform(X.astype(np.float64))"
   ]
  },
  {
   "cell_type": "code",
   "execution_count": 7,
   "id": "d77f1c21",
   "metadata": {},
   "outputs": [],
   "source": [
    "# 특성을 표준화하기\n",
    "from sklearn.preprocessing import StandardScaler\n",
    "\n",
    "X =  StandardScaler().fit_transform(X.astype(np.float64))"
   ]
  },
  {
   "cell_type": "code",
   "execution_count": 8,
   "id": "cd9482da",
   "metadata": {},
   "outputs": [],
   "source": [
    "# y를 문자가 아닌 숫자로 바꾸기 => R : 1, M : 0\n",
    "y = (y == \"R\").astype(np.int)"
   ]
  },
  {
   "cell_type": "code",
   "execution_count": 9,
   "id": "21ad665f",
   "metadata": {},
   "outputs": [],
   "source": [
    "# 전체 데이터 샘플의 20%는 테스트 샘플로 두고(test_size=0.2, seed=7) 10 fold 교차검증을 이용하여 파라미터 설정\n",
    "from sklearn.model_selection import train_test_split\n",
    "\n",
    "X_train, X_test, y_train, y_test = train_test_split(X,y,test_size=0.2,random_state=7)"
   ]
  },
  {
   "cell_type": "markdown",
   "id": "4a9b6797",
   "metadata": {},
   "source": [
    "# [ Logistic Regression ]"
   ]
  },
  {
   "cell_type": "markdown",
   "id": "ee1a5319",
   "metadata": {},
   "source": [
    "### GridSearchCV를 이용하여 교차검증으로 적절한 하이퍼파라미터 선택\n",
    "- 주요 파라미터 (C)\n",
    "    - C값 (기본값 = 1)\n",
    "    - C값이 작으면 Penalty 강해짐 (단순모델)\n",
    "    - C값이 크면 Penalty 약해짐\n",
    "    - 보통 로그스케일로 지정(10배씩) = 0.01, 0.1, 1, 10\n",
    "- penalty\n",
    "    - L2 : Ridge, 일반적으로 사용 (default)\n",
    "    - L1 : Lasso, 변수가 많아서 줄여야 할 때 사용, 모델의 단순화 및 해석에 용이\n",
    "    - Elasticnet : L1과 L2가 합쳐진 버전\n",
    "    - none : 어떤 penalty도 추가되지 않음\n",
    "\n",
    "* 참고한 사이트 :\n",
    "    - https://wikidocs.net/16594\n",
    "    - https://scikit-learn.org/stable/modules/generated/sklearn.linear_model.LogisticRegression.html?highlight=logisticregression#sklearn.linear_model.LogisticRegression"
   ]
  },
  {
   "cell_type": "code",
   "execution_count": 10,
   "id": "803d9a31",
   "metadata": {},
   "outputs": [
    {
     "data": {
      "text/plain": [
       "GridSearchCV(cv=10, estimator=LogisticRegression(),\n",
       "             param_grid={'C': [0.001, 0.01, 0.1, 1, 10, 100],\n",
       "                         'penalty': ['l1', 'l2']},\n",
       "             scoring='accuracy')"
      ]
     },
     "execution_count": 10,
     "metadata": {},
     "output_type": "execute_result"
    }
   ],
   "source": [
    "from sklearn.model_selection import GridSearchCV\n",
    "from sklearn.linear_model import LogisticRegression\n",
    "\n",
    "# 파라미터 후보\n",
    "params = {'C' : [0.001,0.01,0.1,1,10,100],\n",
    "          'penalty':['l1','l2']}\n",
    "\n",
    "# 그리드 서치 진행\n",
    "grid_search_lr = GridSearchCV(LogisticRegression(), param_grid = params, scoring = 'accuracy', cv=10)\n",
    "\n",
    "# param_grid의 하이퍼 파라미터를 순차적으로 학습/평가하기\n",
    "grid_search_lr.fit(X_train, y_train)"
   ]
  },
  {
   "cell_type": "code",
   "execution_count": 11,
   "id": "950c13a0",
   "metadata": {
    "scrolled": true
   },
   "outputs": [
    {
     "data": {
      "text/plain": [
       "{'C': 0.1, 'penalty': 'l2'}"
      ]
     },
     "execution_count": 11,
     "metadata": {},
     "output_type": "execute_result"
    }
   ],
   "source": [
    "# 최적의 파라미터 값 찾기\n",
    "grid_search_lr.best_params_"
   ]
  },
  {
   "cell_type": "code",
   "execution_count": 12,
   "id": "00fda4f6",
   "metadata": {
    "scrolled": true
   },
   "outputs": [
    {
     "data": {
      "text/plain": [
       "0.8011029411764706"
      ]
     },
     "execution_count": 12,
     "metadata": {},
     "output_type": "execute_result"
    }
   ],
   "source": [
    "# 최적 평균 정확도\n",
    "grid_search_lr.best_score_"
   ]
  },
  {
   "cell_type": "code",
   "execution_count": 13,
   "id": "23bc029a",
   "metadata": {},
   "outputs": [
    {
     "name": "stdout",
     "output_type": "stream",
     "text": [
      "\n",
      "logistic regression의 10-겹 교차 검증 점수 : \n",
      " [0.88235294 0.76470588 0.76470588 0.82352941 0.76470588 0.82352941\n",
      " 0.6875     0.75       0.875      0.875     ]\n",
      "\n",
      "logistic regression의 10-겹 교차 검증 평균 점수 :  0.8011029411764706\n",
      "\n",
      "격자탐색 로지스틱 회귀 train dataset 정확도 : 0.8855421686746988\n",
      "\n",
      "격자탐색 로지스틱 회귀 test dataset 정확도 : 0.7619047619047619\n"
     ]
    }
   ],
   "source": [
    "from sklearn.model_selection import cross_val_score\n",
    "from sklearn.metrics import accuracy_score\n",
    "\n",
    "best_lr = grid_search_lr.best_estimator_\n",
    "\n",
    "cv10_scores = cross_val_score(best_lr, X_train, y_train, cv=10, scoring = 'accuracy')\n",
    "\n",
    "print('\\nlogistic regression의 10-겹 교차 검증 점수 : \\n', cv10_scores)\n",
    "print('\\nlogistic regression의 10-겹 교차 검증 평균 점수 : ', cv10_scores.mean())\n",
    "\n",
    "y_pred_train = best_lr.predict(X_train)\n",
    "y_pred_test = best_lr.predict(X_test)\n",
    "\n",
    "print(f\"\\n격자탐색 로지스틱 회귀 train dataset 정확도 : {accuracy_score(y_train,y_pred_train)}\")\n",
    "print(f\"\\n격자탐색 로지스틱 회귀 test dataset 정확도 : {accuracy_score(y_test,y_pred_test)}\")"
   ]
  },
  {
   "cell_type": "markdown",
   "id": "843a3b54",
   "metadata": {},
   "source": [
    "# [ Support Vector Machine ]"
   ]
  },
  {
   "cell_type": "markdown",
   "id": "184c496e",
   "metadata": {},
   "source": [
    "### GridSearchCV를 이용하여 교차검증으로 적절한 하이퍼파라미터 선택\n",
    "- 주요 파라미터 (C)\n",
    "    - C값 (기본값 = 1)\n",
    "    - C값이 작으면 Penalty 강해짐 (단순모델)\n",
    "    - C값이 크면 Penalty 약해짐\n",
    "    - 보통 로그스케일로 지정(10배씩) = 0.01, 0.1, 1, 10\n",
    "- kernel\n",
    "SVM에서 특성벡터를 직접 구하는 대신 커널 트릭을 사용하여 쌍대문제 해결\n",
    "    - linear : 선형 커널\n",
    "    - rbf : 가우시안 RBF(Radial Basis Function)\n",
    "        - gamma : 데이터 샘플이 영향력을 행사하는 거리를 결정 (클수록 한 데이터 포인터들이 영향력을 행사하는 거리가 짧아지고, 낮을수록 커진다)\n",
    "    - poly : 다항커널\n",
    "        - gamma\n",
    "- 참고한 사이트\n",
    "    - https://woolulu.tistory.com/tag/grid%20search\n",
    "    - https://scikit-learn.org/stable/modules/generated/sklearn.svm.SVC.html"
   ]
  },
  {
   "cell_type": "code",
   "execution_count": 14,
   "id": "509ee97a",
   "metadata": {},
   "outputs": [
    {
     "data": {
      "text/plain": [
       "GridSearchCV(cv=10, estimator=SVC(),\n",
       "             param_grid=[{'C': [0.001, 0.01, 0.1, 1, 10, 100],\n",
       "                          'gamma': [0.001, 0.01, 0.1, 1, 10, 100],\n",
       "                          'kernel': ['rbf']},\n",
       "                         {'C': [0.001, 0.01, 0.1, 1, 10, 100],\n",
       "                          'kernel': ['linear']},\n",
       "                         {'C': [0.001, 0.01, 0.1, 1, 10, 100],\n",
       "                          'gamma': [0.001, 0.01, 0.1, 1, 10, 100],\n",
       "                          'kernel': ['poly']}],\n",
       "             scoring='accuracy')"
      ]
     },
     "execution_count": 14,
     "metadata": {},
     "output_type": "execute_result"
    }
   ],
   "source": [
    "from sklearn.svm import SVC\n",
    "\n",
    "# 파라미터 후보\n",
    "values = [0.001, 0.01, 0.1, 1, 10, 100]\n",
    "params = [{'kernel' : ['rbf'], 'C' : values , 'gamma' : values},\n",
    "           {'kernel' : ['linear'], 'C' : values},\n",
    "           {'kernel' : ['poly'], 'C' : values, 'gamma' : values}]\n",
    "\n",
    "# 그리드 서치 진행\n",
    "grid_search_svc = GridSearchCV(SVC(), param_grid = params, scoring = 'accuracy', cv = 10)\n",
    "\n",
    "# param_grid의 하이퍼 파라미터를 순차적으로 학습/평가하기\n",
    "grid_search_svc.fit(X_train,y_train)"
   ]
  },
  {
   "cell_type": "code",
   "execution_count": 15,
   "id": "6e148b2c",
   "metadata": {
    "scrolled": true
   },
   "outputs": [
    {
     "data": {
      "text/plain": [
       "{'C': 10, 'gamma': 0.01, 'kernel': 'rbf'}"
      ]
     },
     "execution_count": 15,
     "metadata": {},
     "output_type": "execute_result"
    }
   ],
   "source": [
    "# 최적의 파라미터 값 찾기\n",
    "grid_search_svc.best_params_"
   ]
  },
  {
   "cell_type": "code",
   "execution_count": 16,
   "id": "9cee2835",
   "metadata": {},
   "outputs": [
    {
     "data": {
      "text/plain": [
       "0.8485294117647058"
      ]
     },
     "execution_count": 16,
     "metadata": {},
     "output_type": "execute_result"
    }
   ],
   "source": [
    "# 최적의 평균 정확도\n",
    "grid_search_svc.best_score_"
   ]
  },
  {
   "cell_type": "code",
   "execution_count": 17,
   "id": "a0ae9561",
   "metadata": {},
   "outputs": [
    {
     "name": "stdout",
     "output_type": "stream",
     "text": [
      "\n",
      "Support vector machine의 10-겹 교차 검증 점수 : \n",
      " [0.94117647 0.70588235 0.94117647 0.88235294 1.         0.76470588\n",
      " 0.6875     0.875      0.75       0.9375    ]\n",
      "\n",
      "Support vector machine의 10-겹 교차 검증 평균 점수 :  0.8485294117647058\n",
      "\n",
      "격자탐색 Support vector machine train dataset 정확도 : 1.0\n",
      "\n",
      "격자탐색 Support vector machine test dataset 정확도 : 0.9285714285714286\n"
     ]
    }
   ],
   "source": [
    "best_svc = grid_search_svc.best_estimator_\n",
    "\n",
    "cv10_scores = cross_val_score(best_svc, X_train, y_train, cv = 10, scoring = 'accuracy')\n",
    "\n",
    "print('\\nSupport vector machine의 10-겹 교차 검증 점수 : \\n', cv10_scores)\n",
    "print('\\nSupport vector machine의 10-겹 교차 검증 평균 점수 : ', cv10_scores.mean())\n",
    "\n",
    "y_pred_train = best_svc.predict(X_train)\n",
    "y_pred_test = best_svc.predict(X_test)\n",
    "\n",
    "print(f\"\\n격자탐색 Support vector machine train dataset 정확도 : {accuracy_score(y_train,y_pred_train)}\")\n",
    "print(f\"\\n격자탐색 Support vector machine test dataset 정확도 : {accuracy_score(y_test,y_pred_test)}\")"
   ]
  },
  {
   "cell_type": "markdown",
   "id": "82626fa1",
   "metadata": {},
   "source": [
    "# [ Decision Tree Classifier ]"
   ]
  },
  {
   "cell_type": "markdown",
   "id": "156abc00",
   "metadata": {},
   "source": [
    "### GridSearchCV를 이용하여 교차검증으로 적절한 하이퍼파라미터 선택\n",
    "- max_leaf_nodes : 리프노드의 최대 개수\n",
    "- min_samples_leaf : 리프노드가 가지고 있어야 할 최소 훈련 샘플의 개수\n",
    "- max_depth : 결정트리의 최대깊이\n",
    "- criterion\n",
    "    - gini : 지니불순도\n",
    "    - entropy : 엔트로피불순도"
   ]
  },
  {
   "cell_type": "code",
   "execution_count": 41,
   "id": "c39b54bf",
   "metadata": {},
   "outputs": [
    {
     "data": {
      "text/plain": [
       "GridSearchCV(cv=10, estimator=DecisionTreeClassifier(random_state=42),\n",
       "             param_grid={'criterion': ['gini', 'entropy'],\n",
       "                         'max_depth': range(1, 10),\n",
       "                         'max_leaf_nodes': range(2, 50),\n",
       "                         'min_samples_leaf': range(15, 20)},\n",
       "             scoring='accuracy')"
      ]
     },
     "execution_count": 41,
     "metadata": {},
     "output_type": "execute_result"
    }
   ],
   "source": [
    "from sklearn.tree import DecisionTreeClassifier\n",
    "\n",
    "# 파라미터 후보\n",
    "params = {\n",
    "    'criterion' : ['gini','entropy'],\n",
    "    'max_depth' : range(1,10),\n",
    "    'min_samples_leaf': range(15,20),\n",
    "    'max_leaf_nodes': range(2, 50)}\n",
    "\n",
    "# 그리드 서치 진행\n",
    "grid_search_tr = GridSearchCV(DecisionTreeClassifier(random_state=42), param_grid = params, scoring = 'accuracy', cv=10)\n",
    "\n",
    "# param_grid의 하이퍼 파라미터를 순차적으로 학습/평가하기\n",
    "grid_search_tr.fit(X_train, y_train)"
   ]
  },
  {
   "cell_type": "code",
   "execution_count": 43,
   "id": "8621d0dc",
   "metadata": {},
   "outputs": [
    {
     "data": {
      "text/plain": [
       "{'criterion': 'gini',\n",
       " 'max_depth': 1,\n",
       " 'max_leaf_nodes': 2,\n",
       " 'min_samples_leaf': 15}"
      ]
     },
     "execution_count": 43,
     "metadata": {},
     "output_type": "execute_result"
    }
   ],
   "source": [
    "# 최적의 파라미터 값 찾기\n",
    "grid_search_tr.best_params_"
   ]
  },
  {
   "cell_type": "code",
   "execution_count": 44,
   "id": "0bd81e56",
   "metadata": {},
   "outputs": [
    {
     "data": {
      "text/plain": [
       "0.6878676470588235"
      ]
     },
     "execution_count": 44,
     "metadata": {},
     "output_type": "execute_result"
    }
   ],
   "source": [
    "# 최적의 평균 정확도\n",
    "grid_search_tr.best_score_"
   ]
  },
  {
   "cell_type": "code",
   "execution_count": 45,
   "id": "e0981278",
   "metadata": {},
   "outputs": [
    {
     "name": "stdout",
     "output_type": "stream",
     "text": [
      "\n",
      "Decision tree의 10-겹 교차 검증 점수 : \n",
      " [0.64705882 0.70588235 0.70588235 0.70588235 0.58823529 0.58823529\n",
      " 0.8125     0.5625     0.6875     0.875     ]\n",
      "\n",
      "Decision tree의 10-겹 교차 검증 평균 점수 :  0.6878676470588235\n",
      "\n",
      "격자탐색 Decision tree train dataset 정확도 : 0.7469879518072289\n",
      "\n",
      "격자탐색 Decision tree test dataset 정확도 : 0.8095238095238095\n"
     ]
    }
   ],
   "source": [
    "best_tr = grid_search_tr.best_estimator_\n",
    "\n",
    "cv10_scores = cross_val_score(best_tr, X_train, y_train, cv=10, scoring = 'accuracy')\n",
    "\n",
    "print('\\nDecision tree의 10-겹 교차 검증 점수 : \\n', cv10_scores)\n",
    "print('\\nDecision tree의 10-겹 교차 검증 평균 점수 : ', cv10_scores.mean())\n",
    "\n",
    "y_pred_train = best_tr.predict(X_train)\n",
    "y_pred_test = best_tr.predict(X_test)\n",
    "\n",
    "print(f\"\\n격자탐색 Decision tree train dataset 정확도 : {accuracy_score(y_train,y_pred_train)}\")\n",
    "print(f\"\\n격자탐색 Decision tree test dataset 정확도 : {accuracy_score(y_test,y_pred_test)}\")"
   ]
  },
  {
   "cell_type": "code",
   "execution_count": null,
   "id": "f27c6c15",
   "metadata": {},
   "outputs": [],
   "source": []
  }
 ],
 "metadata": {
  "kernelspec": {
   "display_name": "Python 3 (ipykernel)",
   "language": "python",
   "name": "python3"
  },
  "language_info": {
   "codemirror_mode": {
    "name": "ipython",
    "version": 3
   },
   "file_extension": ".py",
   "mimetype": "text/x-python",
   "name": "python",
   "nbconvert_exporter": "python",
   "pygments_lexer": "ipython3",
   "version": "3.7.11"
  },
  "toc": {
   "base_numbering": 1,
   "nav_menu": {},
   "number_sections": true,
   "sideBar": true,
   "skip_h1_title": false,
   "title_cell": "Table of Contents",
   "title_sidebar": "Contents",
   "toc_cell": false,
   "toc_position": {},
   "toc_section_display": true,
   "toc_window_display": false
  }
 },
 "nbformat": 4,
 "nbformat_minor": 5
}
