{
 "cells": [
  {
   "cell_type": "markdown",
   "metadata": {},
   "source": [
    "## 확률 기초 복습 (네이버 수학백과 참고)\n",
    "\n",
    ">* 이산확률변수 $X$에 대한 확률질량함수(PMF: Probability Mass Function) $p(x)$:  \n",
    ">    * $X$가 취할 수 있는 모든 $x_i\\ (i=1,\\cdots, n)$에 대해 $p(x_i)\\ge 0$\n",
    ">    * $\\displaystyle{\\sum_{i=1}^n p(x_i) = 1}$ (또는 $x\\neq x_i$일 때 $p(x)=0$으로 정의하면 $\\displaystyle{\\sum_{x\\in \\mathbb R} p(x) = 1}$)\n",
    ">    * 복습할 내용  \n",
    ">>* [이산확률변수 (기댓값, 분산)](https://terms.naver.com/entry.nhn?docId=3338094&ref=y&cid=47324&categoryId=47324)  \n",
    ">>* [이산확률분포 (베르누이 분포, 이항분포, 다항분포)](https://terms.naver.com/entry.nhn?docId=3338096&ref=y&cid=47324&categoryId=47324)  \n",
    ">>* [확률질량함수](https://terms.naver.com/entry.nhn?docId=3405419&ref=y&cid=47324&categoryId=47324) \n",
    "    \n",
    ">* 연속확률변수 $X$에 대한 확률밀도함수(PDF: Probability Density Function) $p(x)$:  \n",
    ">    * $X$가 취할 수 있는 모든 $a\\le x \\le b$에 대해 $p(x)\\ge 0$  \n",
    ">    * $\\displaystyle{\\int_a^b p(x)dx=1}$  (또는 $x\\notin [a,b]$일 때 $p(x)=0$으로 정의하면 $\\int_{\\mathbb R} p(x)dx=1$)\n",
    ">    * 복습할 내용  \n",
    ">> * [연속확률변수 (기댓값, 분산)](https://terms.naver.com/entry.nhn?docId=3338172&ref=y&cid=47324&categoryId=47324)  \n",
    ">> * [연속확률분포 (균등분포, 정규분포, 카이제곱분포)](https://terms.naver.com/entry.nhn?docId=4125375&ref=y&cid=60207&categoryId=60207)  \n",
    ">> * [확률밀도함수](https://terms.naver.com/entry.nhn?docId=3405418&ref=y&cid=47324&categoryId=47324)  \n",
    "\n",
    "> * 확률밀도함수와 확률질량함수를 통칭하여 확률함수 : 확률함수를 아는 것은 확률분포를 아는 것과 같음\n",
    ">> * 복습할 내용  \n",
    ">>      * [누적분포함수](https://terms.naver.com/entry.nhn?docId=3405007&ref=y&cid=47324&categoryId=47324)\n",
    "> * 누적분포함수(CDF: Cumulative Distribution Function)  \n",
    ">>    * 간단히 분포함수라고 함  \n",
    ">>    * $X$가 이산확률변수일 때 누적분포함수 $F(x) = \\displaystyle{\\sum_{k\\le x}p(k)}$  \n",
    ">>    * $X$가 연속확률변수일 때 누적분포함수 $F(x) = \\displaystyle{\\int_{-\\infty}^x p(x)dx}$\n",
    ">>    * 확률 $P(a\\le X \\le b) = F(b)-F(a)$\n",
    "\n",
    ">* 결합확률분포, 주변확률분포, 독립변수  \n",
    ">    * 복습할 내용  \n",
    ">>    * [결합확률질량함수, 주변확률질량함수](https://terms.naver.com/entry.nhn?docId=4125154&cid=60207&categoryId=60207)  \n",
    ">>    * [결합확률밀도함수, 주변확률밀도함수](https://terms.naver.com/entry.nhn?docId=3404948&ref=y&cid=47324&categoryId=47324)  \n",
    ">>    * [결합분포함수](https://terms.naver.com/entry.nhn?docId=3404946&ref=y&cid=47324&categoryId=47324)  \n",
    ">>    * [독립변수](https://terms.naver.com/entry.nhn?docId=3338159&cid=47324&categoryId=47324)  \n",
    ">>    * [공분산, 상관계수](https://terms.naver.com/entry.nhn?docId=3404964&cid=47324&categoryId=47324)  \n",
    ">    * 두 확률변수 $X$와 $Y$가 독립:  \n",
    ">>* 결합분포함수 $F_{X,Y}$와 각각의 분포함수(주변분포함수) $F_X$, $F_Y$에 대해 \n",
    "$$F_{X,Y}(x,y)=F_X(x)F_Y(y)$$  \n",
    ">>* 결합확률함수 $p_{X,Y}$와 각각의 확률함수 $p_X$, $p_Y$에 대해 $$p_{X,Y}(x,y)=p_X(x)p_Y(y)$$  \n",
    ">    * 두 확률변수 $X$와 $Y$의 공분산 ${\\rm Cov}(X,Y)$이 $0$일 때, 두 확률변수는 **상관없다(uncorrelated)**고 함  \n",
    ">>* 두 확률변수 $X$와 $Y$가 독립이면 두 확률변수는 상관없다. 하지만 역은 성립하지 않음  \n",
    ">>* (역이 성립하지 않는 예:  <span style=\"color:red\">**check**</span>) 두 확률변수 $X,Y$의 결합 확률밀도함수가 $p(x,y)=\\begin{cases} 1 &|x|+|y|\\le \\frac 1{\\sqrt 2}\\\\ 0 & \\text{그 외의 경우}\\end{cases}$  \n",
    ">    * 연속확률변수 $X$와 이산확률변수 $Y$의 결합확률함수가 $p(x,y)$일 때,  \n",
    ">>* $X$에 대한 주변확률밀도함수 $p_X(x)= \\displaystyle{\\sum_{y\\in\\mathbb R}p(x,y)}$  \n",
    ">>* $Y$에 대한 주변확률질량함수 $p_Y(y)= \\displaystyle{\\int_{-\\infty}^{\\infty}p(x,y)dx}$  \n",
    "\n",
    "\n",
    "> * 조건부 확률, 조건부 분포함수, 조건부 확률함수  \n",
    ">     * 조건부 확률함수 : 두 확률변수 $X,Y$에 대한 결합확률함수가 $p_{X,Y}$일 때  \n",
    ">>  * $X=x$가 주어질 때 $Y$의 조건부 확률함수 $p_{Y|X}(y) = \\dfrac{p_{X,Y}(x,y)}{p_X(x)}$  \n",
    ">>  * $Y=y$가 주어질 때 $X$의 조건부 확률함수 $p_{X|Y}(x) = \\dfrac{p_{X,Y}(x,y)}{p_Y(y)}$\n",
    ">     * 복습할 내용  \n",
    ">>    * [조건부 확률, 베이즈의 정리](https://terms.naver.com/entry.nhn?docId=3338502&cid=47324&categoryId=47324)  \n",
    ">>    * [조건부 분포함수, 조건부 확률질량함수](https://terms.naver.com/entry.nhn?docId=3338190&ref=y&cid=47324&categoryId=47324)  \n",
    ">>    * [조건부 분포함수, 조건부 확률밀도함수](https://terms.naver.com/entry.nhn?docId=3338189&ref=y&cid=47324&categoryId=47324)  \n",
    ">\n",
    ">  * 확률변수 $X$와 이산확률변수 $Y$의 결합확률함수가 $p=p_{X,Y}$일 때\n",
    ">>* $p(x,y) = p_X(x)p_{Y|X}(y|x)=p_Y(y)p_{X|Y}(x|y)$  \n",
    ">>* $p_X(x) = \\displaystyle{\\sum_{y\\in \\mathbb R}p(x,y)}$  \n",
    ">>* 베이즈의 정리를 적용하면  $X=x$가 주어질 때, $Y$의 조건부 확률질량함수를 다음과 같이 쓸 수 있음  \n",
    ">>$$p_{Y|X}(y|x)= \\dfrac{p(x,y)}{p_X(x)}=\\dfrac{p_Y(y)p_{X|Y}(x|y)}{p_X(x)}\n",
    "=\\dfrac{p_Y(y)p_{X|Y}(x|y)}{\\sum_{y\\in \\mathbb R}p_Y(y)p_{X|Y}(x|y)}$$  \n",
    ">>* 이때, $p_{Y|X}(y|x)$를 $Y$의 사후확률(posteriori probability)함수, $p_Y(y)$를 $Y$의 사전확률(priori probability)함수, $p_X(x)$를 근거(evidence)라고 함  \n",
    "\n",
    ">* 연속확률변수 $X$가 $d$차원, 즉 $X=(X_1,X_2,\\cdots,X_d)^T$일 때:  \n",
    ">> * $X$의 기댓값 ${\\rm E}(X) = ({\\rm E}_{X_1}(X_1),\\cdots,{\\rm E}_{X_d}(X_d))^{\\rm T}$  \n",
    ">>     * $d=2$일 때, $$\\begin{aligned} \n",
    "{\\rm E}(X) =& (\\int_{\\mathbb R}\\int_{\\mathbb R} x_1 p(x_1,x_2)dx_1dx_2,\\int_{\\mathbb R}\\int_{\\mathbb R} x_2 p(x_1,x_2)dx_1dx_2)^{\\rm T}\\\\\n",
    "=&(\\int_{\\mathbb R} x_1 p_{X_1}(x_1)dx_1,\\int_{\\mathbb R} x_2 p_{X_2}(x_2)dx_2)^{\\rm T}\n",
    "\\end{aligned}$$\n",
    ">> * $X$의 분산-공분산 행렬 ${\\rm V}(X) = E_X\\bigl((X-{\\rm E}(X))(X-{\\rm E}(X))^{\\rm T}\\bigr)$  \n",
    ">>     * $d=2$일 때, $$\\begin{aligned}\n",
    "{\\rm V}(X) = & {\\rm E}\\left(\\begin{pmatrix} X_1-{\\rm E}_{X_1}\\\\ X_2-{\\rm E}_{X_2}\\end{pmatrix} \n",
    "\\begin{pmatrix} X_1-{\\rm E}_{X_1}& X_2-{\\rm E}_{X_2}\\end{pmatrix}\\right)\\\\\n",
    "=&\\begin{pmatrix} {\\rm E}\\bigl((X_1-{\\rm E}_{X_1})(X_1-{\\rm E}_{X_1})\\bigr) & {\\rm E}\\bigl((X_1-{\\rm E}_{X_1})(X_2-{\\rm E}_{X_2})\\bigr)\\\\{\\rm E} \\bigl((X_2-{\\rm E}_{X_2})(X_1-{\\rm E}_{X_1})\\bigr) &{\\rm E} \\bigl((X_1-{\\rm E}_{X_1})(X_1-{\\rm E}_{X_1})\\bigr) \\end{pmatrix}\\\\\n",
    "=&\\begin{pmatrix} {\\rm V}(X_1) & {\\rm Cov}(X_1,X_2)\\\\ {\\rm Cov}(X_2,X_1) & {\\rm V}(X_2)\\end{pmatrix}\n",
    "\\end{aligned}\n",
    "$$  \n",
    ">>* ${\\rm Cov}(X_1,X_1) = {\\rm V}(X_1)$  \n",
    "\n",
    ">* $d\\times d$ 행렬 $A$와 확률변수 $X = (X_1,\\cdots,X_d)^{\\rm T}$에 대해  \n",
    ">> * $\\text{E}(AX) = A\\text{E}(X)$  \n",
    ">> * $\\text{V}(AX) = A\\text{V}(X)A^{\\rm T}$\n",
    "\n",
    "\n",
    "\n",
    ">* 다변수 정규분포 \n",
    ">>* 복습할 내용 :  \n",
    ">>>- 선형대수학: 행렬연산, 대칭행렬, 대칭행렬의 직교대각화, 이차형식 (해설이 있는 선형대수학(2판) 또는 다른 선형대수학 책 참고)\n",
    ">>>- [다변수 정규분포](https://terms.naver.com/entry.nhn?docId=5669006&cid=60207&categoryId=60207)\n",
    ">>* 평균벡터 $\\mathbf \\mu$, 공분산 행렬 ${\\bf \\Sigma}$인 다변수(다변량) 정규분포의 확률밀도 함수: $\\mathbf x=(x_1,\\cdots,x_d)^{\\rm t}$라 할 때 \n",
    "$$p(\\mathbf x)=\\dfrac 1{(\\sqrt 2\\pi)^d ({\\rm det}{\\mathbf \\Sigma})^{\\frac 1 2}} {\\rm exp}\\bigl(-\\dfrac 1 2 (\\mathbf x-\\mathbf \\mu)^{\\rm T} \\mathbf \\Sigma ^{-1} (\\mathbf x-\\mathbf \\mu)\\bigr)$$  \n",
    ">>* 공분산 행렬은 양의 정부호행렬(positive definite matrix): $\\mathbf \\Sigma$의 모든 고윳값이 양수  \n",
    ">>* 특히, 공분산 행렬이 대각행렬 $\\mathbf \\Sigma = {\\rm diag}(\\sigma_1^2,\\cdots,\\sigma_d^2)$이고 $\\mathbf \\mu = (\\mu_1,\\cdots, \\mu_d)^{\\rm T}$라 하면 \n",
    "$$p(\\mathbf x)=p(x_1,\\cdots,x_n) = \\prod_{i=1}^d \\dfrac 1{\\sqrt{2\\pi}\\sigma_i}{\\rm exp}\\left(-\\dfrac{(x_i-\\mu_1)^2}{2\\sigma^2}\\right)$$\n",
    "\n",
    "<img src=\".\\images\\week3\\multi_normal.png\" width=\"900\">"
   ]
  },
  {
   "cell_type": "markdown",
   "metadata": {},
   "source": [
    "## 통계와 관련된 파이썬 패키지: scipy.stats \n",
    "\n",
    "* 이산확률분포의 예 : 이항분포 \n",
    ">* $X\\sim B(n,p)$\n",
    ">* `scipy.stats`의 `binom`모듈: [사용법](https://docs.scipy.org/doc/scipy/reference/generated/scipy.stats.binom.html?highlight=binom#scipy.stats.binom)"
   ]
  },
  {
   "cell_type": "code",
   "execution_count": 1,
   "metadata": {},
   "outputs": [],
   "source": [
    "import numpy as np\n",
    "import matplotlib.pyplot as plt\n",
    "%matplotlib inline"
   ]
  },
  {
   "cell_type": "code",
   "execution_count": 2,
   "metadata": {},
   "outputs": [],
   "source": [
    "from scipy.stats import binom"
   ]
  },
  {
   "cell_type": "code",
   "execution_count": 3,
   "metadata": {},
   "outputs": [],
   "source": [
    "# 이항분포 B(n,p)파라미터 설정 \n",
    "p = 0.3\n",
    "n = 100\n",
    "\n",
    "# 이항분포 정의 \n",
    "dist1 = binom(n,p)"
   ]
  },
  {
   "cell_type": "code",
   "execution_count": 4,
   "metadata": {},
   "outputs": [
    {
     "data": {
      "text/plain": [
       "[<matplotlib.lines.Line2D at 0x1f9e60ec0c8>]"
      ]
     },
     "execution_count": 4,
     "metadata": {},
     "output_type": "execute_result"
    },
    {
     "data": {
      "image/png": "[encoded data removed]",
      "text/plain": [
       "<Figure size 432x288 with 1 Axes>"
      ]
     },
     "metadata": {
      "needs_background": "light"
     },
     "output_type": "display_data"
    }
   ],
   "source": [
    "# 이항분포 확률질량함수 dist1.pmf \n",
    "\n",
    "Xlist = range(10,50)\n",
    "Ylist = dist1.pmf(Xlist)\n",
    "plt.plot(Xlist, Ylist)"
   ]
  },
  {
   "cell_type": "code",
   "execution_count": 5,
   "metadata": {},
   "outputs": [
    {
     "name": "stdout",
     "output_type": "stream",
     "text": [
      "10번 이하 성공할 확률:0.000\n",
      "20번 이하 성공할 확률:1.646\n",
      "30번 이하 성공할 확률:54.912\n",
      "40번 이하 성공할 확률:98.750\n",
      "50번 이하 성공할 확률:99.999\n",
      "60번 이하 성공할 확률:100.000\n",
      "70번 이하 성공할 확률:100.000\n",
      "80번 이하 성공할 확률:100.000\n",
      "90번 이하 성공할 확률:100.000\n"
     ]
    }
   ],
   "source": [
    "# 이항분포의 CDF: dist1.cdf\n",
    "\n",
    "for n in range(10,100,10):\n",
    "    print(f'{n}번 이하 성공할 확률:{dist1.cdf(n)*100:0.3f}')"
   ]
  },
  {
   "cell_type": "code",
   "execution_count": 6,
   "metadata": {},
   "outputs": [
    {
     "name": "stdout",
     "output_type": "stream",
     "text": [
      "10번 이하 성공할 확률:0.000\n",
      "20번 이하 성공할 확률:1.646\n",
      "30번 이하 성공할 확률:54.912\n",
      "40번 이하 성공할 확률:98.750\n",
      "50번 이하 성공할 확률:99.999\n",
      "60번 이하 성공할 확률:100.000\n",
      "70번 이하 성공할 확률:100.000\n",
      "80번 이하 성공할 확률:100.000\n",
      "90번 이하 성공할 확률:100.000\n"
     ]
    }
   ],
   "source": [
    "for n in range(10,100,10):\n",
    "    print(f'{n}번 이하 성공할 확률:{dist1.cdf(n)*100:0.3f}')"
   ]
  },
  {
   "cell_type": "code",
   "execution_count": 7,
   "metadata": {},
   "outputs": [
    {
     "name": "stdout",
     "output_type": "stream",
     "text": [
      "X가 B(100,0.3)를 따를 때, 평균:30.0, 분산:21.0, 왜도:0.08728715609439697, 첨도:-0.012380952380952371\n"
     ]
    }
   ],
   "source": [
    "# m:mean (평균), v:variance(분산), s:skewness(왜도), k:kurtosis(첨도)\n",
    "m,v,s,k = dist1.stats(moments='mvsk')\n",
    "\n",
    "print(f'X가 B(100,0.3)를 따를 때, 평균:{m}, 분산:{v}, 왜도:{s}, 첨도:{k}')"
   ]
  },
  {
   "cell_type": "code",
   "execution_count": 8,
   "metadata": {},
   "outputs": [
    {
     "data": {
      "text/plain": [
       "13.74772708486752"
      ]
     },
     "execution_count": 8,
     "metadata": {},
     "output_type": "execute_result"
    }
   ],
   "source": [
    "np.sqrt(v)*3"
   ]
  },
  {
   "cell_type": "markdown",
   "metadata": {},
   "source": [
    "* 연속확률분포의 예: 정규분포  \n",
    ">* $X\\sim N(\\mu,\\sigma^2)$\n",
    ">* `scipy.stats`의 `norm` 모듈 : [사용법](https://docs.scipy.org/doc/scipy/reference/generated/scipy.stats.norm.html?highlight=norm) "
   ]
  },
  {
   "cell_type": "code",
   "execution_count": 9,
   "metadata": {},
   "outputs": [],
   "source": [
    "from scipy.stats import norm"
   ]
  },
  {
   "cell_type": "code",
   "execution_count": 10,
   "metadata": {},
   "outputs": [],
   "source": [
    "mu = 50 \n",
    "sigma = 5\n",
    "dist2 = norm(mu,sigma)"
   ]
  },
  {
   "cell_type": "code",
   "execution_count": 11,
   "metadata": {},
   "outputs": [
    {
     "data": {
      "text/plain": [
       "[<matplotlib.lines.Line2D at 0x1f9e6136108>]"
      ]
     },
     "execution_count": 11,
     "metadata": {},
     "output_type": "execute_result"
    },
    {
     "data": {
      "image/png": "[encoded data removed]",
      "text/plain": [
       "<Figure size 432x288 with 1 Axes>"
      ]
     },
     "metadata": {
      "needs_background": "light"
     },
     "output_type": "display_data"
    }
   ],
   "source": [
    "# 정규분포의 확률밀도함수 \n",
    "\n",
    "Xlist = range(20,80)\n",
    "Ylist = dist2.pdf(Xlist)\n",
    "plt.plot(Xlist, Ylist)"
   ]
  },
  {
   "cell_type": "code",
   "execution_count": 12,
   "metadata": {},
   "outputs": [
    {
     "data": {
      "text/plain": [
       "0.07978845608028654"
      ]
     },
     "execution_count": 12,
     "metadata": {},
     "output_type": "execute_result"
    }
   ],
   "source": [
    "dist2.pdf(50)"
   ]
  },
  {
   "cell_type": "code",
   "execution_count": 13,
   "metadata": {},
   "outputs": [
    {
     "name": "stdout",
     "output_type": "stream",
     "text": [
      "P(40<=X<=60)= 0.95\n"
     ]
    }
   ],
   "source": [
    "# 정규분포의 CDF \n",
    "\n",
    "print(f'P(40<=X<=60)={dist2.cdf(60)-dist2.cdf(40):5.2f}')"
   ]
  },
  {
   "cell_type": "code",
   "execution_count": 14,
   "metadata": {},
   "outputs": [
    {
     "name": "stdout",
     "output_type": "stream",
     "text": [
      "X가 N(50,25)를 따를 때, 평균:50.0, 분산:25.0, 왜도:0.0, 첨도:0.0\n"
     ]
    }
   ],
   "source": [
    "# m:mean (평균), v:variance(분산), s:skewness(왜도), k:kurtosis(첨도)\n",
    "m,v,s,k = dist2.stats(moments='mvsk')\n",
    "\n",
    "print(f'X가 N(50,25)를 따를 때, 평균:{m}, 분산:{v}, 왜도:{s}, 첨도:{k}')"
   ]
  },
  {
   "cell_type": "code",
   "execution_count": 15,
   "metadata": {},
   "outputs": [
    {
     "data": {
      "text/plain": [
       "Text(0.5, 1.0, 'mean=0 cov=[[1, -0.5],[-0.5, 1]]')"
      ]
     },
     "execution_count": 15,
     "metadata": {},
     "output_type": "execute_result"
    },
    {
     "data": {
      "image/png": "[encoded data removed]",
      "text/plain": [
       "<Figure size 864x576 with 6 Axes>"
      ]
     },
     "metadata": {
      "needs_background": "light"
     },
     "output_type": "display_data"
    }
   ],
   "source": [
    "# 여기서 그림을 그리는 부분은 필수적으로 알아야 하는 내용은 아닙니다. \n",
    "#(물론, 각 함수들을 찾아서 이해하고 활용할 수 있으면 도움이 됩니다.)\n",
    "from scipy.stats import multivariate_normal\n",
    "\n",
    "x, y = np.mgrid[-1:1:0.01, -1:1:.01] # 격자를 만드는 방법\n",
    "pos = np.dstack((x, y))\n",
    "\n",
    "rv1 = multivariate_normal(mean=[0, 0], cov=[[0.1, 0],[0, 0.1]])\n",
    "rv2 = multivariate_normal(mean=[0, 0], cov=[[1, 0],[0, 1]])\n",
    "\n",
    "rv3 = multivariate_normal(mean=[0, 0], cov=[[2, 0],[0, 1]])\n",
    "rv4 = multivariate_normal(mean=[0, 0], cov=[[1, 0],[0, 2]])\n",
    "\n",
    "rv5 = multivariate_normal(mean=[0, 0], cov=[[1, 0.5],[0.5, 1]])\n",
    "rv6 = multivariate_normal(mean=[0, 0], cov=[[1, -0.5],[-0.5, 1]])\n",
    "\n",
    "fig, subplots = plt.subplots(2, 3) # 총 6개의 그림을 그리겠다는 뜻\n",
    "fig.set_figwidth(12)\n",
    "fig.set_figheight(8)\n",
    "subplots = subplots.reshape(-1)\n",
    "\n",
    "subplots[0].contourf(x, y, rv1.pdf(pos), cmap='magma') # contourf 등고선을 그린다는 뜻\n",
    "subplots[1].contourf(x, y, rv2.pdf(pos), cmap='magma')\n",
    "subplots[2].contourf(x, y, rv3.pdf(pos), cmap='magma')\n",
    "subplots[3].contourf(x, y, rv4.pdf(pos), cmap='magma')\n",
    "subplots[4].contourf(x, y, rv5.pdf(pos), cmap='magma')\n",
    "subplots[5].contourf(x, y, rv6.pdf(pos), cmap='magma')\n",
    "\n",
    "subplots[0].set_title('mean=0 cov=[[0.1, 0],[0, 0.1]]')\n",
    "subplots[1].set_title('mean=0 cov=[[1, 0],[0, 1]]')\n",
    "subplots[2].set_title('mean=0 cov=[[2, 0],[0, 1]]')\n",
    "subplots[3].set_title('mean=0 cov=[[1, 0],[0, 2]]')\n",
    "subplots[4].set_title('mean=0 cov=[[1, 0.5],[0.5, 1]]')\n",
    "subplots[5].set_title('mean=0 cov=[[1, -0.5],[-0.5, 1]]')"
   ]
  },
  {
   "cell_type": "code",
   "execution_count": 16,
   "metadata": {},
   "outputs": [
    {
     "data": {
      "text/plain": [
       "2.2103349154917746e-11"
      ]
     },
     "execution_count": 16,
     "metadata": {},
     "output_type": "execute_result"
    }
   ],
   "source": [
    "rv1.pdf([1,2])"
   ]
  },
  {
   "cell_type": "markdown",
   "metadata": {},
   "source": [
    "## 지도학습(분류문제) 모델의 종류 : \n",
    "\n",
    "### 판별모델(discriminative model) 과 생성모델(generative model)\n",
    "\n",
    "* 각 샘플의 $d$차원 특성벡터 $\\mathbf x$와 레이블 $y$ ($y\\in \\{y_1,\\cdots,y_k\\})$이 각각 미지의 확률분포를 따를 때, \n",
    ">* 확률변수 $X=(X_1,\\cdots,X_d)$와 $Y$의 결합확률함수를 $p(X,Y)$라 하자. \n",
    ">* $X=\\mathbf x$에 대한 레이블이 $Y=y_i$ $(1\\le i \\le k)$가 될 확률 $p_Y(y_i|X=\\mathbf x)$\n",
    "$$p_Y(y_i|X=\\mathbf x)=\\dfrac{p(\\mathbf x,y_i)}{p_X(\\mathbf x)}=\\frac{p_Y(y_i)p_{X|Y}(\\mathbf x|y_i)}{p_X(\\mathbf x)}$$\n",
    ">* $X=\\mathbf x$가 주어질 때, 대응되는 레이블의 예측을 $\\hat y={\\rm argmax}\\, p(y_i|\\mathbf x)$로 구할 수 있음, 즉 판별함수 $\\hat f(\\mathbf x)={\\rm argmax}\\, p(y_i|\\mathbf x)$\n",
    ">* $p_Y(y)$와 각 클래스별 $X$의 분포 $p_{X|Y}(\\mathbf x|y)$를 구하면, 이로부터 $p(\\mathbf x,y)$를 구한 다음 $p(y|\\mathbf x)$를 구할 수 있다. 이 경우 앞서 설명한 방식으로 판별함수 $\\hat f$를 구할 수 있으므로 확률분포 $p(\\mathbf x,y)$를 생성하는 것을 통해 판별함수를 구하는  학습모델을 **생성모델**이라 한다. \n",
    ">* 생성모델과 달리 $p(\\mathbf x,y)$를 구하지 않고 $\\hat f(\\mathbf x)$만을 구성하는 학습모델을 **판별모델**이라고 한다. \n",
    ">* 생성모델과 판별모델의 장단점 "
   ]
  },
  {
   "cell_type": "markdown",
   "metadata": {},
   "source": [
    "#### 다음 시간에 판별모델과 생성모델의 구체적인 예를 통해 기계학습의 전체 그림을 이해 \n",
    "> * 다음 시간에 공부할 판별모델의 예 : 퍼셉트론 모델 ([scikit-learn 참고](https://scikit-learn.org/stable/modules/generated/sklearn.linear_model.Perceptron.html?highlight=perceptron#sklearn.linear_model.Perceptron))\n",
    "> * 다음 시간에 공부할 생성모델의 예 : 나이브베이즈 모델 ([scikit-learn 참고](https://scikit-learn.org/stable/modules/generated/sklearn.naive_bayes.GaussianNB.html?highlight=gaussiannb#sklearn.naive_bayes.GaussianNB))"
   ]
  },
  {
   "cell_type": "markdown",
   "metadata": {},
   "source": [
    "## 연습문제 \n",
    "\n",
    "1) 두 확률변수 $X,\\ Y$의 공분산이 $\\text{Cov}(X,Y)=0$이지만 두 확률변수가 독립이 아닌 예(강의 중  <span style=\"color:red\">**check**</span> 표시)를 증명하시오.\n",
    "\n",
    "2) $d\\times d$ 행렬 $A$와 확률변수 $X = (X_1,\\cdots,X_d)^{\\rm T}$에 대해 다음이 성립함을 보이시오. \n",
    "> 2-1) $\\text{E}(AX) = A\\text{E}(X)$  \n",
    "> 2-2) $\\text{V}(AX) = A\\text{V}(X)A^{\\rm T}$\n"
   ]
  },
  {
   "cell_type": "code",
   "execution_count": null,
   "metadata": {},
   "outputs": [],
   "source": []
  }
 ],
 "metadata": {
  "kernelspec": {
   "display_name": "Python 3 (ipykernel)",
   "language": "python",
   "name": "python3"
  },
  "language_info": {
   "codemirror_mode": {
    "name": "ipython",
    "version": 3
   },
   "file_extension": ".py",
   "mimetype": "text/x-python",
   "name": "python",
   "nbconvert_exporter": "python",
   "pygments_lexer": "ipython3",
   "version": "3.7.11"
  },
  "toc": {
   "base_numbering": 1,
   "nav_menu": {},
   "number_sections": true,
   "sideBar": true,
   "skip_h1_title": false,
   "title_cell": "Table of Contents",
   "title_sidebar": "Contents",
   "toc_cell": false,
   "toc_position": {},
   "toc_section_display": true,
   "toc_window_display": false
  }
 },
 "nbformat": 4,
 "nbformat_minor": 4
}
